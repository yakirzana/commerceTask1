{
 "cells": [
  {
   "cell_type": "markdown",
   "metadata": {},
   "source": [
    "<h1> HW3 </h1>"
   ]
  },
  {
   "cell_type": "markdown",
   "metadata": {},
   "source": [
    "## Q1.a"
   ]
  },
  {
   "cell_type": "code",
   "execution_count": null,
   "metadata": {},
   "outputs": [],
   "source": [
    "import numpy as np\n",
    "import pandas as pd\n",
    "import os\n",
    "import tensorflow as T\n",
    "import keras\n",
    "from keras import backend as K\n",
    "from keras import initializers\n",
    "from keras.initializers import RandomNormal\n",
    "from keras.models import Sequential, Model, load_model, save_model\n",
    "from keras.layers.core import Dense, Lambda, Activation\n",
    "from keras.layers import Embedding, Input, Dense, merge, Reshape, Merge, Flatten, Dropout\n",
    "from keras.optimizers import Adagrad, Adam, SGD, RMSprop, Adamax\n",
    "from keras.regularizers import l2\n",
    "from keras.layers import Multiply, Concatenate\n",
    "from keras.callbacks import Callback, EarlyStopping, ModelCheckpoint\n",
    "from time import time\n",
    "import multiprocessing as mp\n",
    "import sys\n",
    "import math\n",
    "import argparse\n",
    "import matplotlib.pyplot as plt"
   ]
  },
  {
   "cell_type": "markdown",
   "metadata": {},
   "source": [
    "Define dataset folder and files"
   ]
  },
  {
   "cell_type": "code",
   "execution_count": null,
   "metadata": {},
   "outputs": [],
   "source": [
    "MOVIELENS_DIR = 'ml-100k/'\n",
    "RATING_DATA_FILE = 'u1.base'\n",
    "RATINGS_CSV_FILE = 'u1_emb.data'\n",
    "MODEL_WEIGHTS_FILE = 'u1_emb_weights.h5'"
   ]
  },
  {
   "cell_type": "markdown",
   "metadata": {},
   "source": [
    "The user and item id for embedding should start from 0.\n",
    "Update ids and save to file"
   ]
  },
  {
   "cell_type": "code",
   "execution_count": null,
   "metadata": {},
   "outputs": [],
   "source": [
    "ratings = pd.read_csv(os.path.join(MOVIELENS_DIR, RATING_DATA_FILE), \n",
    "                    sep='\\t', \n",
    "                    engine='python', \n",
    "                    encoding='latin-1',\n",
    "                    names=['userid', 'movieid', 'rating', 'timestamp'])\n",
    "max_userid = ratings['userid'].drop_duplicates().max()\n",
    "max_movieid = ratings['movieid'].drop_duplicates().max()\n",
    "ratings['user_emb_id'] = ratings['userid'] - 1\n",
    "ratings['movie_emb_id'] = ratings['movieid'] - 1\n",
    "print(str(len(ratings))+' ratings loaded')\n",
    "ratings.to_csv(RATINGS_CSV_FILE, \n",
    "               sep='\\t', \n",
    "               header=True, \n",
    "               encoding='latin-1', \n",
    "               columns=['userid', 'movieid', 'rating', 'timestamp', 'user_emb_id', 'movie_emb_id'])\n",
    "print('Saved to '+RATINGS_CSV_FILE)"
   ]
  },
  {
   "cell_type": "markdown",
   "metadata": {},
   "source": [
    "Load train rating file"
   ]
  },
  {
   "cell_type": "code",
   "execution_count": null,
   "metadata": {},
   "outputs": [],
   "source": [
    "ratings = pd.read_csv(RATINGS_CSV_FILE, \n",
    "                      sep='\\t', \n",
    "                      encoding='latin-1', \n",
    "                      usecols=['userid', 'movieid', 'user_emb_id', 'movie_emb_id', 'rating'])\n",
    "max_userid = ratings['userid'].drop_duplicates().max()\n",
    "max_movieid = ratings['movieid'].drop_duplicates().max()\n",
    "print(str(len(ratings)), 'ratings loaded.')\n",
    "print('users '+str(max_userid)+' items '+str(max_movieid))"
   ]
  },
  {
   "cell_type": "code",
   "execution_count": null,
   "metadata": {},
   "outputs": [],
   "source": [
    "print(ratings)"
   ]
  },
  {
   "cell_type": "markdown",
   "metadata": {},
   "source": [
    "Prepare inputs to model"
   ]
  },
  {
   "cell_type": "code",
   "execution_count": null,
   "metadata": {},
   "outputs": [],
   "source": [
    "shuffled_ratings = ratings.sample(frac=1.)\n",
    "Users = shuffled_ratings['user_emb_id'].values\n",
    "Movies = shuffled_ratings['movie_emb_id'].values\n",
    "Ratings = shuffled_ratings['rating'].values"
   ]
  },
  {
   "cell_type": "code",
   "execution_count": null,
   "metadata": {},
   "outputs": [],
   "source": [
    "shuffled_ratings"
   ]
  },
  {
   "cell_type": "markdown",
   "metadata": {},
   "source": [
    "Define matrix factorization model"
   ]
  },
  {
   "cell_type": "code",
   "execution_count": null,
   "metadata": {},
   "outputs": [],
   "source": [
    "def get_model(num_users, num_items, latent_dim):\n",
    "    # Input variables\n",
    "    user_input = Input(shape=(1,), dtype='int32', name = 'user_input')\n",
    "    item_input = Input(shape=(1,), dtype='int32', name = 'item_input')\n",
    "\n",
    "    MF_Embedding_User = Embedding(input_dim = num_users, output_dim = latent_dim, name = 'user_embedding', input_length=1)\n",
    "    MF_Embedding_Item = Embedding(input_dim = num_items, output_dim = latent_dim, name = 'item_embedding', input_length=1)   \n",
    "    \n",
    "    # Crucial to flatten an embedding vector!\n",
    "    user_latent = Flatten()(MF_Embedding_User(user_input))\n",
    "    item_latent = Flatten()(MF_Embedding_Item(item_input))\n",
    "    \n",
    "    # 2 dropuot\n",
    "    conc = Concatenate()([user_latent, item_latent])\n",
    "    drop = Dropout(0.5)(conc)\n",
    "    hid1 = Dense(hidden_dim, activation='relu')(conc)\n",
    "    drop2  = Dropout(do)(hid1)\n",
    "    prediction = Dense(1, activation='relu', kernel_initializer='lecun_uniform', name = 'prediction')(drop2)\n",
    "    \n",
    "    # Element-wise product of user and item embeddings\n",
    "    prediction = merge([user_latent, item_latent], mode = 'dot')\n",
    "    \n",
    "    \n",
    "    model = Model(input=[user_input, item_input], output=prediction)\n",
    "\n",
    "    return model\n"
   ]
  },
  {
   "cell_type": "markdown",
   "metadata": {},
   "source": [
    "Define embedding size and compile model"
   ]
  },
  {
   "cell_type": "code",
   "execution_count": null,
   "metadata": {},
   "outputs": [],
   "source": [
    "K_LATENT = 20\n",
    "hidden_dim = 1\n",
    "do = 0.5\n",
    "\n",
    "MF_model = get_model(max_userid,max_movieid,K_LATENT)\n",
    "MF_model.compile(loss='mse', optimizer='adamax',metrics=['mae'])"
   ]
  },
  {
   "cell_type": "markdown",
   "metadata": {},
   "source": [
    "## Q1.b"
   ]
  },
  {
   "cell_type": "markdown",
   "metadata": {},
   "source": [
    "Train model"
   ]
  },
  {
   "cell_type": "code",
   "execution_count": null,
   "metadata": {
    "scrolled": true
   },
   "outputs": [],
   "source": [
    "callbacks = [EarlyStopping('val_loss', patience=2), \n",
    "             ModelCheckpoint(MODEL_WEIGHTS_FILE, save_best_only=True)]\n",
    "historyMF = MF_model.fit([Users, Movies], Ratings, epochs=12, validation_split=.2, verbose=1, callbacks=callbacks)"
   ]
  },
  {
   "cell_type": "code",
   "execution_count": null,
   "metadata": {},
   "outputs": [],
   "source": [
    "def printSumMSE(history):\n",
    "    loss = pd.DataFrame({'epoch': [ i + 1 for i in history.epoch ],\n",
    "                         'training': [ math.sqrt(loss) for loss in history.history['loss'] ],\n",
    "                         'validation': [ math.sqrt(loss) for loss in history.history['val_loss'] ]})\n",
    "\n",
    "    plt.plot(loss['training'])\n",
    "    plt.plot(loss['validation'])\n",
    "    plt.title('model rmse')\n",
    "    plt.ylabel('rmse')\n",
    "    plt.xlabel('epoch')\n",
    "    plt.legend(['train', 'validation'], loc='upper left')\n",
    "    plt.show()"
   ]
  },
  {
   "cell_type": "code",
   "execution_count": null,
   "metadata": {},
   "outputs": [],
   "source": [
    "printSumMSE(historyMF)"
   ]
  },
  {
   "cell_type": "markdown",
   "metadata": {},
   "source": [
    "### Second Model: TODO"
   ]
  },
  {
   "cell_type": "markdown",
   "metadata": {},
   "source": [
    "## Q1.c"
   ]
  },
  {
   "cell_type": "markdown",
   "metadata": {},
   "source": [
    "In HW2 we got MAE 0.5956766082578648, in one epoc.\n",
    "in HW3 we got MAE 0.9192 in 12 epoches\n",
    "We can understand from above that our pediction model worked better, because we based on non-personal recomandations.\n",
    "\n"
   ]
  },
  {
   "cell_type": "markdown",
   "metadata": {},
   "source": [
    "## Q2.a"
   ]
  },
  {
   "cell_type": "code",
   "execution_count": null,
   "metadata": {},
   "outputs": [],
   "source": [
    "def get_ncf_model(num_users, num_items, latent_dim,hidden_dim,do):\n",
    "    # Input variables\n",
    "    user_input = Input(shape=(1,), dtype='int32', name = 'user_input')\n",
    "    item_input = Input(shape=(1,), dtype='int32', name = 'item_input')\n",
    "\n",
    "    MF_Embedding_User = Embedding(input_dim = num_users, output_dim = latent_dim, name = 'user_embedding', input_length=1)\n",
    "    MF_Embedding_Item = Embedding(input_dim = num_items, output_dim = latent_dim, name = 'item_embedding', input_length=1)   \n",
    "    \n",
    "    # Crucial to flatten an embedding vector!\n",
    "    user_latent = Flatten()(MF_Embedding_User(user_input))\n",
    "    item_latent = Flatten()(MF_Embedding_Item(item_input))\n",
    "    \n",
    "    # Element-wise product of user and item embeddings\n",
    "    conc = Concatenate()([user_latent, item_latent])\n",
    "    drop = Dropout(0.5)(conc)\n",
    "    hid1 = Dense(hidden_dim, activation='relu')(conc)\n",
    "    drop2  = Dropout(do)(hid1)\n",
    "    prediction = Dense(1, activation='relu', kernel_initializer='lecun_uniform', name = 'prediction')(drop2)\n",
    "    \n",
    "    \n",
    "    model = Model(input=[user_input, item_input], output=prediction)\n",
    "\n",
    "    return model"
   ]
  },
  {
   "cell_type": "code",
   "execution_count": null,
   "metadata": {},
   "outputs": [],
   "source": [
    "K_LATENT = 20\n",
    "hidden_dim = 1\n",
    "do = 0.5\n",
    "\n",
    "NCF_model = get_ncf_model(max_userid,max_movieid,K_LATENT,hidden_dim,do)\n",
    "NCF_model.compile(loss='mse',optimizer=Adamax(),metrics=['mae'])"
   ]
  },
  {
   "cell_type": "markdown",
   "metadata": {},
   "source": [
    "## Q2.b"
   ]
  },
  {
   "cell_type": "markdown",
   "metadata": {},
   "source": [
    "### option 1: 1 hidden layer, K_LATENT(output_dim) = 20, optimizer=Adamax(), loss='mse', activation='relu'."
   ]
  },
  {
   "cell_type": "code",
   "execution_count": null,
   "metadata": {},
   "outputs": [],
   "source": [
    "callbacks = [EarlyStopping('val_loss', patience=2), \n",
    "             ModelCheckpoint(MODEL_WEIGHTS_FILE, save_best_only=True)]\n",
    "historyNCF = NCF_model.fit([Users, Movies], Ratings, epochs=12, validation_split=.2, verbose=1, callbacks=callbacks)"
   ]
  },
  {
   "cell_type": "code",
   "execution_count": null,
   "metadata": {},
   "outputs": [],
   "source": [
    "printSumMSE(historyNCF)"
   ]
  },
  {
   "cell_type": "markdown",
   "metadata": {},
   "source": [
    "### option 1 result: mean_absolute_error: 0.8654"
   ]
  },
  {
   "cell_type": "markdown",
   "metadata": {},
   "source": [
    "### option2 : 10 hidden layer, K_LATENT(output_dim) = 20, optimizer=Adamax(), loss='mse', activation='relu'."
   ]
  },
  {
   "cell_type": "code",
   "execution_count": null,
   "metadata": {},
   "outputs": [],
   "source": [
    "K_LATENT = 20\n",
    "hidden_dim = 10\n",
    "do = 0.5\n",
    "\n",
    "NCF_model2 = get_ncf_model(max_userid,max_movieid,K_LATENT,hidden_dim,do)\n",
    "NCF_model2.compile(loss='mse',optimizer=Adamax(),metrics=['mae'])"
   ]
  },
  {
   "cell_type": "code",
   "execution_count": null,
   "metadata": {},
   "outputs": [],
   "source": [
    "callbacks = [EarlyStopping('val_loss', patience=2), \n",
    "             ModelCheckpoint(MODEL_WEIGHTS_FILE, save_best_only=True)]\n",
    "historyNCF2 = NCF_model2.fit([Users, Movies], Ratings, epochs=12, validation_split=.2, verbose=1, callbacks=callbacks)"
   ]
  },
  {
   "cell_type": "code",
   "execution_count": null,
   "metadata": {},
   "outputs": [],
   "source": [
    "printSumMSE(historyNCF2)"
   ]
  },
  {
   "cell_type": "markdown",
   "metadata": {},
   "source": [
    "### option 2 result: We got mean_absolute_error: 0.7487"
   ]
  },
  {
   "cell_type": "markdown",
   "metadata": {},
   "source": [
    "### option 3 : 5 hidden layer, K_LATENT(output_dim) = 10, optimizer=Adamax(), loss='mse', activation='relu'."
   ]
  },
  {
   "cell_type": "code",
   "execution_count": null,
   "metadata": {},
   "outputs": [],
   "source": [
    "K_LATENT = 10\n",
    "hidden_dim = 5\n",
    "do = 0.5\n",
    "\n",
    "NCF_model3 = get_ncf_model(max_userid,max_movieid,K_LATENT,hidden_dim,do)\n",
    "NCF_model3.compile(loss='mse',optimizer=Adamax(),metrics=['mae'])"
   ]
  },
  {
   "cell_type": "code",
   "execution_count": null,
   "metadata": {},
   "outputs": [],
   "source": [
    "callbacks = [EarlyStopping('val_loss', patience=2), \n",
    "             ModelCheckpoint(MODEL_WEIGHTS_FILE, save_best_only=True)]\n",
    "historyNCF3 = NCF_model3.fit([Users, Movies], Ratings, epochs=12, validation_split=.2, verbose=1, callbacks=callbacks)"
   ]
  },
  {
   "cell_type": "code",
   "execution_count": null,
   "metadata": {},
   "outputs": [],
   "source": [
    "printSumMSE(historyNCF3)"
   ]
  },
  {
   "cell_type": "markdown",
   "metadata": {},
   "source": [
    "### option 3 result : mean_absolute_error: 0.7639\n"
   ]
  },
  {
   "cell_type": "markdown",
   "metadata": {},
   "source": [
    "## Q2.c"
   ]
  },
  {
   "cell_type": "markdown",
   "metadata": {},
   "source": [
    "## summary:\n",
    "### option 1 MAE 0.8654\n",
    "### option 2 MAE 0.7487\n",
    "### option 3 MAE 0.7639\n",
    "\n",
    "### So the best is option2!:\n",
    "### 10 hidden layer, K_LATENT(output_dim) = 20, optimizer=Adamax(), loss='mse', activation='relu'.\n",
    "\n",
    "#### explanation:                                                                                                                                                                                                      \n",
    "#### in the neural network, the number of hidden layers is the number of layers that the data is processed. therefore more layers can improve the accuracy of the prediction.   "
   ]
  },
  {
   "cell_type": "markdown",
   "metadata": {},
   "source": [
    "## Q3.1"
   ]
  },
  {
   "cell_type": "markdown",
   "metadata": {},
   "source": [
    "### add gender and release year"
   ]
  },
  {
   "cell_type": "markdown",
   "metadata": {},
   "source": [
    "## Q3.2\n"
   ]
  },
  {
   "cell_type": "code",
   "execution_count": null,
   "metadata": {},
   "outputs": [],
   "source": [
    "m_cols = ['movieid','movie title','release date','video release date','IMDb URL'\n",
    "          ,'unknown','Action','Adventure','Animation','Childrens','Comedy',\n",
    "          'Crime','Documentary','Drama','Fantasy','Film-Noir','Horror','Musical','Mystery','Romance','Sci-Fi',\n",
    "        'Thriller','War','Western']\n",
    "data_u_item = pd.read_csv('ml-100k/u.item',delimiter='|',names=m_cols,encoding='latin-1')[['movieid','release date']]"
   ]
  },
  {
   "cell_type": "code",
   "execution_count": null,
   "metadata": {},
   "outputs": [],
   "source": [
    "#explore users\n",
    "u_cols = ['userid','age','gender','occupation','zip_code']\n",
    "data_u_users = pd.read_csv('ml-100k/u.user',delimiter='|',names=u_cols,encoding='latin-1')[['userid','gender']]"
   ]
  },
  {
   "cell_type": "markdown",
   "metadata": {},
   "source": [
    "### merge shuffled_ratings with movie info and user information"
   ]
  },
  {
   "cell_type": "code",
   "execution_count": null,
   "metadata": {},
   "outputs": [],
   "source": [
    "data_u_item.head()"
   ]
  },
  {
   "cell_type": "code",
   "execution_count": null,
   "metadata": {},
   "outputs": [],
   "source": [
    "data_u_users.head()"
   ]
  },
  {
   "cell_type": "code",
   "execution_count": null,
   "metadata": {},
   "outputs": [],
   "source": [
    "shuffled_ratings.head()"
   ]
  },
  {
   "cell_type": "code",
   "execution_count": null,
   "metadata": {},
   "outputs": [],
   "source": [
    "movies_ratings_data = shuffled_ratings.merge(data_u_item,on = 'movieid',how = 'inner')"
   ]
  },
  {
   "cell_type": "code",
   "execution_count": null,
   "metadata": {},
   "outputs": [],
   "source": [
    "movies_ratings_data = movies_ratings_data.merge(data_u_users,on = 'userid',how = 'inner')"
   ]
  },
  {
   "cell_type": "code",
   "execution_count": null,
   "metadata": {},
   "outputs": [],
   "source": [
    "from sklearn.preprocessing import LabelBinarizer\n",
    "lb = LabelBinarizer()\n",
    "movies_ratings_data['gender'] = lb.fit_transform(movies_ratings_data['gender'])"
   ]
  },
  {
   "cell_type": "code",
   "execution_count": null,
   "metadata": {},
   "outputs": [],
   "source": [
    "def parse_date(data):\n",
    "    new_data = []\n",
    "    for year in data:\n",
    "        fix_year = year[-4:]\n",
    "        new_data.append(fix_year)\n",
    "    return new_data"
   ]
  },
  {
   "cell_type": "code",
   "execution_count": null,
   "metadata": {},
   "outputs": [],
   "source": [
    "# movies_ratings_data['release date'] = parse_date(movies_ratings_data['release date']) \n",
    "movies_ratings_data.loc[movies_ratings_data['release date'].isnull(), 'release date'] = '1990'\n",
    "movies_ratings_data.loc[movies_ratings_data['release date'] == '','release date'] = '1990'\n",
    "movies_ratings_data['release date'] = parse_date(movies_ratings_data['release date']) "
   ]
  },
  {
   "cell_type": "code",
   "execution_count": null,
   "metadata": {},
   "outputs": [],
   "source": [
    "movies_ratings_data.head()"
   ]
  },
  {
   "cell_type": "code",
   "execution_count": null,
   "metadata": {},
   "outputs": [],
   "source": [
    "Users = movies_ratings_data['user_emb_id'].values\n",
    "Movies = movies_ratings_data['movie_emb_id'].values\n",
    "Gender = movies_ratings_data['gender'].values\n",
    "Year = movies_ratings_data['release date'].values\n",
    "Ratings = movies_ratings_data['rating'].values"
   ]
  },
  {
   "cell_type": "code",
   "execution_count": 333,
   "metadata": {},
   "outputs": [],
   "source": [
    "def get_ncf_model_4(num_users, num_items, latent_dim,hidden_dim,do):\n",
    "    # Input variables\n",
    "    user_input = Input(shape=(1,), dtype='int32', name = 'user_input')\n",
    "    item_input = Input(shape=(1,), dtype='int32', name = 'item_input')\n",
    "    gender_input = Input(shape=(1,), dtype='int32', name = 'gender_input')\n",
    "    year_input = Input(shape=(1,), dtype='int32', name = 'year_input')\n",
    "\n",
    "    MF_Embedding_User = Embedding(input_dim = num_users, output_dim = latent_dim, name = 'user_embedding', input_length=1)\n",
    "    MF_Embedding_Item = Embedding(input_dim = num_items, output_dim = latent_dim, name = 'item_embedding', input_length=1) \n",
    "    MF_Embedding_Gender = Embedding(input_dim = 2, output_dim = latent_dim, name = 'gender_embedding', input_length=1)\n",
    "    MF_Embedding_Year = Embedding(input_dim = 2000, output_dim = latent_dim, name = 'year_embedding', input_length=1)  \n",
    "    \n",
    "    # Crucial to flatten an embedding vector!\n",
    "    user_latent = Flatten()(MF_Embedding_User(user_input))\n",
    "    item_latent = Flatten()(MF_Embedding_Item(item_input))\n",
    "    gender_latent = Flatten()(MF_Embedding_Gender(gender_input))\n",
    "    year_latent = Flatten()(MF_Embedding_Year(year_input))\n",
    "    \n",
    "    # Element-wise product of user and item embeddings\n",
    "    conc = Concatenate()([user_latent, item_latent, gender_latent, year_latent])\n",
    "    drop = Dropout(0.5)(conc)\n",
    "    hid1 = Dense(hidden_dim, activation='relu')(conc)\n",
    "    drop2  = Dropout(do)(hid1)\n",
    "    prediction = Dense(1, activation='relu', kernel_initializer='lecun_uniform', name = 'prediction')(drop2)\n",
    "    \n",
    "    \n",
    "    model = Model(input=[user_input, item_input, gender_input, year_input], output=prediction)\n",
    "\n",
    "    return model"
   ]
  },
  {
   "cell_type": "code",
   "execution_count": 345,
   "metadata": {},
   "outputs": [
    {
     "name": "stderr",
     "output_type": "stream",
     "text": [
      "C:\\Users\\erez\\Anaconda3\\lib\\site-packages\\ipykernel_launcher.py:27: UserWarning: Update your `Model` call to the Keras 2 API: `Model(inputs=[<tf.Tenso..., outputs=Tensor(\"pr...)`\n"
     ]
    }
   ],
   "source": [
    "K_LATENT = 20\n",
    "hidden_dim = 10\n",
    "do = 0.5\n",
    "\n",
    "NCF_modelQ3 = get_ncf_model_4(max_userid,max_movieid,K_LATENT,hidden_dim,do)\n",
    "NCF_modelQ3.compile(loss='mse',optimizer=Adamax(),metrics=['mae'])"
   ]
  },
  {
   "cell_type": "markdown",
   "metadata": {},
   "source": [
    "### Q3,c"
   ]
  },
  {
   "cell_type": "markdown",
   "metadata": {},
   "source": [
    "### option 1 K_LATENT = 20, hidden_dim = 10"
   ]
  },
  {
   "cell_type": "code",
   "execution_count": 346,
   "metadata": {},
   "outputs": [
    {
     "name": "stdout",
     "output_type": "stream",
     "text": [
      "Train on 64000 samples, validate on 16000 samples\n",
      "Epoch 1/12\n",
      "64000/64000 [==============================] - 7s 112us/step - loss: 2.5308 - mean_absolute_error: 1.2704 - val_loss: 1.4122 - val_mean_absolute_error: 0.9972\n",
      "Epoch 2/12\n",
      "64000/64000 [==============================] - 7s 106us/step - loss: 1.3523 - mean_absolute_error: 0.9371 - val_loss: 1.2535 - val_mean_absolute_error: 0.9333\n",
      "Epoch 3/12\n",
      "64000/64000 [==============================] - 6s 100us/step - loss: 1.0277 - mean_absolute_error: 0.8142 - val_loss: 1.1752 - val_mean_absolute_error: 0.8966\n",
      "Epoch 4/12\n",
      "64000/64000 [==============================] - 7s 105us/step - loss: 0.9551 - mean_absolute_error: 0.7806 - val_loss: 1.1396 - val_mean_absolute_error: 0.8776\n",
      "Epoch 5/12\n",
      "64000/64000 [==============================] - 6s 100us/step - loss: 0.9337 - mean_absolute_error: 0.7707 - val_loss: 1.1330 - val_mean_absolute_error: 0.8757\n",
      "Epoch 6/12\n",
      "64000/64000 [==============================] - 6s 101us/step - loss: 0.9260 - mean_absolute_error: 0.7687 - val_loss: 1.1369 - val_mean_absolute_error: 0.8791\n",
      "Epoch 7/12\n",
      "64000/64000 [==============================] - 7s 104us/step - loss: 0.9219 - mean_absolute_error: 0.7663 - val_loss: 1.1389 - val_mean_absolute_error: 0.8814\n"
     ]
    }
   ],
   "source": [
    "callbacks = [EarlyStopping('val_loss', patience=2), \n",
    "             ModelCheckpoint(MODEL_WEIGHTS_FILE, save_best_only=True)]\n",
    "historyNCFQ3 = NCF_modelQ3.fit([Users, Movies, Gender, Year], Ratings, epochs=12, validation_split=.2, verbose=1, callbacks=callbacks)"
   ]
  },
  {
   "cell_type": "code",
   "execution_count": 347,
   "metadata": {},
   "outputs": [
    {
     "data": {
      "image/png": "[encoded data removed]",
      "text/plain": [
       "<Figure size 432x288 with 1 Axes>"
      ]
     },
     "metadata": {},
     "output_type": "display_data"
    }
   ],
   "source": [
    "printSumMSE(historyNCFQ3)"
   ]
  },
  {
   "cell_type": "markdown",
   "metadata": {},
   "source": [
    "### option2 K_LATENT = 20, hidden_dim = 10 optimizer=Adagrad"
   ]
  },
  {
   "cell_type": "code",
   "execution_count": 359,
   "metadata": {},
   "outputs": [
    {
     "name": "stderr",
     "output_type": "stream",
     "text": [
      "C:\\Users\\erez\\Anaconda3\\lib\\site-packages\\ipykernel_launcher.py:27: UserWarning: Update your `Model` call to the Keras 2 API: `Model(inputs=[<tf.Tenso..., outputs=Tensor(\"pr...)`\n"
     ]
    },
    {
     "name": "stdout",
     "output_type": "stream",
     "text": [
      "Train on 64000 samples, validate on 16000 samples\n",
      "Epoch 1/12\n",
      "64000/64000 [==============================] - 8s 121us/step - loss: 2.4136 - mean_absolute_error: 1.2473 - val_loss: 1.5247 - val_mean_absolute_error: 1.0449\n",
      "Epoch 2/12\n",
      "64000/64000 [==============================] - 7s 106us/step - loss: 1.9676 - mean_absolute_error: 1.1256 - val_loss: 1.3797 - val_mean_absolute_error: 0.9864\n",
      "Epoch 3/12\n",
      "64000/64000 [==============================] - 7s 105us/step - loss: 1.7988 - mean_absolute_error: 1.0745 - val_loss: 1.3758 - val_mean_absolute_error: 0.9861\n",
      "Epoch 4/12\n",
      "64000/64000 [==============================] - 7s 106us/step - loss: 1.6955 - mean_absolute_error: 1.0452 - val_loss: 1.3344 - val_mean_absolute_error: 0.9686\n",
      "Epoch 5/12\n",
      "64000/64000 [==============================] - 7s 104us/step - loss: 1.5908 - mean_absolute_error: 1.0125 - val_loss: 1.3503 - val_mean_absolute_error: 0.9760\n",
      "Epoch 6/12\n",
      "64000/64000 [==============================] - 7s 103us/step - loss: 1.5056 - mean_absolute_error: 0.9852 - val_loss: 1.3288 - val_mean_absolute_error: 0.9673\n",
      "Epoch 7/12\n",
      "64000/64000 [==============================] - 7s 107us/step - loss: 1.4539 - mean_absolute_error: 0.9687 - val_loss: 1.2729 - val_mean_absolute_error: 0.9429\n",
      "Epoch 8/12\n",
      "64000/64000 [==============================] - 6s 99us/step - loss: 1.3840 - mean_absolute_error: 0.9441 - val_loss: 1.2511 - val_mean_absolute_error: 0.9332\n",
      "Epoch 9/12\n",
      "64000/64000 [==============================] - 7s 105us/step - loss: 1.3489 - mean_absolute_error: 0.9335 - val_loss: 1.2476 - val_mean_absolute_error: 0.9317\n",
      "Epoch 10/12\n",
      "64000/64000 [==============================] - 6s 100us/step - loss: 1.3123 - mean_absolute_error: 0.9202 - val_loss: 1.2427 - val_mean_absolute_error: 0.9289\n",
      "Epoch 11/12\n",
      "64000/64000 [==============================] - 6s 99us/step - loss: 1.2639 - mean_absolute_error: 0.9028 - val_loss: 1.2205 - val_mean_absolute_error: 0.9192\n",
      "Epoch 12/12\n",
      "64000/64000 [==============================] - 7s 104us/step - loss: 1.2315 - mean_absolute_error: 0.8913 - val_loss: 1.2189 - val_mean_absolute_error: 0.9185\n"
     ]
    }
   ],
   "source": [
    "K_LATENT = 20\n",
    "hidden_dim = 10\n",
    "do = 0.5\n",
    "\n",
    "NCF_modelQ3 = get_ncf_model_4(max_userid,max_movieid,K_LATENT,hidden_dim,do)\n",
    "NCF_modelQ3.compile(loss='mse',optimizer=Adagrad(),metrics=['mae'])\n",
    "callbacks = [EarlyStopping('val_loss', patience=2), \n",
    "             ModelCheckpoint(MODEL_WEIGHTS_FILE, save_best_only=True)]\n",
    "historyNCFQ3 = NCF_modelQ3.fit([Users, Movies, Gender, Year], Ratings, epochs=12, validation_split=.2, verbose=1, callbacks=callbacks)"
   ]
  },
  {
   "cell_type": "code",
   "execution_count": 360,
   "metadata": {},
   "outputs": [
    {
     "data": {
      "image/png": "[encoded data removed]",
      "text/plain": [
       "<Figure size 432x288 with 1 Axes>"
      ]
     },
     "metadata": {},
     "output_type": "display_data"
    }
   ],
   "source": [
    "printSumMSE(historyNCFQ3)"
   ]
  },
  {
   "cell_type": "markdown",
   "metadata": {},
   "source": [
    "# option3 K_LATENT = 10, hidden_dim = 20 optimizer=SGD :"
   ]
  },
  {
   "cell_type": "code",
   "execution_count": 365,
   "metadata": {},
   "outputs": [
    {
     "name": "stderr",
     "output_type": "stream",
     "text": [
      "C:\\Users\\erez\\Anaconda3\\lib\\site-packages\\ipykernel_launcher.py:27: UserWarning: Update your `Model` call to the Keras 2 API: `Model(inputs=[<tf.Tenso..., outputs=Tensor(\"pr...)`\n"
     ]
    },
    {
     "name": "stdout",
     "output_type": "stream",
     "text": [
      "Train on 64000 samples, validate on 16000 samples\n",
      "Epoch 1/12\n",
      "64000/64000 [==============================] - 6s 101us/step - loss: 1.3913 - mean_absolute_error: 0.9695 - val_loss: 1.2140 - val_mean_absolute_error: 0.9312\n",
      "Epoch 2/12\n",
      "64000/64000 [==============================] - 5s 81us/step - loss: 1.1903 - mean_absolute_error: 0.9037 - val_loss: 1.1946 - val_mean_absolute_error: 0.9165\n",
      "Epoch 3/12\n",
      "64000/64000 [==============================] - 6s 87us/step - loss: 1.1146 - mean_absolute_error: 0.8616 - val_loss: 1.1623 - val_mean_absolute_error: 0.8914\n",
      "Epoch 4/12\n",
      "64000/64000 [==============================] - 5s 83us/step - loss: 1.0518 - mean_absolute_error: 0.8269 - val_loss: 1.1222 - val_mean_absolute_error: 0.8593\n",
      "Epoch 5/12\n",
      "64000/64000 [==============================] - 5s 85us/step - loss: 1.0200 - mean_absolute_error: 0.8114 - val_loss: 1.1101 - val_mean_absolute_error: 0.8535\n",
      "Epoch 6/12\n",
      "64000/64000 [==============================] - 6s 88us/step - loss: 0.9996 - mean_absolute_error: 0.8030 - val_loss: 1.0865 - val_mean_absolute_error: 0.8371\n",
      "Epoch 7/12\n",
      "64000/64000 [==============================] - 5s 86us/step - loss: 0.9877 - mean_absolute_error: 0.7988 - val_loss: 1.0894 - val_mean_absolute_error: 0.8413\n",
      "Epoch 8/12\n",
      "64000/64000 [==============================] - 5s 85us/step - loss: 0.9683 - mean_absolute_error: 0.7893 - val_loss: 1.0867 - val_mean_absolute_error: 0.8394\n"
     ]
    }
   ],
   "source": [
    "K_LATENT = 10\n",
    "hidden_dim = 10\n",
    "do = 0.5\n",
    "\n",
    "NCF_modelQ3 = get_ncf_model_4(max_userid,max_movieid,K_LATENT,hidden_dim,do)\n",
    "NCF_modelQ3.compile(loss='mse',optimizer=SGD(),metrics=['mae'])\n",
    "callbacks = [EarlyStopping('val_loss', patience=2), \n",
    "             ModelCheckpoint(MODEL_WEIGHTS_FILE, save_best_only=True)]\n",
    "historyNCFQ3 = NCF_modelQ3.fit([Users, Movies, Gender, Year], Ratings, epochs=12, validation_split=.2, verbose=1, callbacks=callbacks)"
   ]
  },
  {
   "cell_type": "code",
   "execution_count": 366,
   "metadata": {},
   "outputs": [
    {
     "data": {
      "image/png": "[encoded data removed]",
      "text/plain": [
       "<Figure size 432x288 with 1 Axes>"
      ]
     },
     "metadata": {},
     "output_type": "display_data"
    }
   ],
   "source": [
    "printSumMSE(historyNCFQ3)"
   ]
  },
  {
   "cell_type": "code",
   "execution_count": null,
   "metadata": {},
   "outputs": [],
   "source": []
  }
 ],
 "metadata": {
  "kernelspec": {
   "display_name": "Python 3",
   "language": "python",
   "name": "python3"
  },
  "language_info": {
   "codemirror_mode": {
    "name": "ipython",
    "version": 3
   },
   "file_extension": ".py",
   "mimetype": "text/x-python",
   "name": "python",
   "nbconvert_exporter": "python",
   "pygments_lexer": "ipython3",
   "version": "3.6.5"
  }
 },
 "nbformat": 4,
 "nbformat_minor": 2
}
