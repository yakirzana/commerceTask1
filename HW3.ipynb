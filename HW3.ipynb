{
 "cells": [
  {
   "cell_type": "markdown",
   "metadata": {},
   "source": [
    "<h1> HW3 </h1>"
   ]
  },
  {
   "cell_type": "markdown",
   "metadata": {},
   "source": [
    "## Q1.a"
   ]
  },
  {
   "cell_type": "code",
   "execution_count": 1,
   "metadata": {},
   "outputs": [
    {
     "name": "stderr",
     "output_type": "stream",
     "text": [
      "C:\\Users\\erez\\Anaconda3\\lib\\site-packages\\h5py\\__init__.py:36: FutureWarning: Conversion of the second argument of issubdtype from `float` to `np.floating` is deprecated. In future, it will be treated as `np.float64 == np.dtype(float).type`.\n",
      "  from ._conv import register_converters as _register_converters\n",
      "Using TensorFlow backend.\n"
     ]
    }
   ],
   "source": [
    "import numpy as np\n",
    "import pandas as pd\n",
    "import os\n",
    "import tensorflow as T\n",
    "import keras\n",
    "from keras import backend as K\n",
    "from keras import initializers\n",
    "from keras.initializers import RandomNormal\n",
    "from keras.models import Sequential, Model, load_model, save_model\n",
    "from keras.layers.core import Dense, Lambda, Activation\n",
    "from keras.layers import Embedding, Input, Dense, merge, Reshape, Merge, Flatten, Dropout\n",
    "from keras.optimizers import Adagrad, Adam, SGD, RMSprop, Adamax\n",
    "from keras.regularizers import l2\n",
    "from keras.layers import Multiply, Concatenate\n",
    "from keras.callbacks import Callback, EarlyStopping, ModelCheckpoint\n",
    "from time import time\n",
    "import multiprocessing as mp\n",
    "import sys\n",
    "import math\n",
    "import argparse\n",
    "import matplotlib.pyplot as plt"
   ]
  },
  {
   "cell_type": "markdown",
   "metadata": {},
   "source": [
    "Define dataset folder and files"
   ]
  },
  {
   "cell_type": "code",
   "execution_count": 2,
   "metadata": {},
   "outputs": [],
   "source": [
    "MOVIELENS_DIR = 'ml-100k/'\n",
    "RATING_DATA_FILE = 'u1.base'\n",
    "RATINGS_CSV_FILE = 'u1_emb.data'\n",
    "MODEL_WEIGHTS_FILE = 'u1_emb_weights.h5'"
   ]
  },
  {
   "cell_type": "markdown",
   "metadata": {},
   "source": [
    "The user and item id for embedding should start from 0.\n",
    "Update ids and save to file"
   ]
  },
  {
   "cell_type": "code",
   "execution_count": 3,
   "metadata": {},
   "outputs": [
    {
     "name": "stdout",
     "output_type": "stream",
     "text": [
      "80000 ratings loaded\n",
      "Saved to u1_emb.data\n"
     ]
    }
   ],
   "source": [
    "ratings = pd.read_csv(os.path.join(MOVIELENS_DIR, RATING_DATA_FILE), \n",
    "                    sep='\\t', \n",
    "                    engine='python', \n",
    "                    encoding='latin-1',\n",
    "                    names=['userid', 'movieid', 'rating', 'timestamp'])\n",
    "max_userid = ratings['userid'].drop_duplicates().max()\n",
    "max_movieid = ratings['movieid'].drop_duplicates().max()\n",
    "ratings['user_emb_id'] = ratings['userid'] - 1\n",
    "ratings['movie_emb_id'] = ratings['movieid'] - 1\n",
    "print(str(len(ratings))+' ratings loaded')\n",
    "ratings.to_csv(RATINGS_CSV_FILE, \n",
    "               sep='\\t', \n",
    "               header=True, \n",
    "               encoding='latin-1', \n",
    "               columns=['userid', 'movieid', 'rating', 'timestamp', 'user_emb_id', 'movie_emb_id'])\n",
    "print('Saved to '+RATINGS_CSV_FILE)"
   ]
  },
  {
   "cell_type": "markdown",
   "metadata": {},
   "source": [
    "Load train rating file"
   ]
  },
  {
   "cell_type": "code",
   "execution_count": 4,
   "metadata": {},
   "outputs": [
    {
     "name": "stdout",
     "output_type": "stream",
     "text": [
      "80000 ratings loaded.\n",
      "users 943 items 1682\n"
     ]
    }
   ],
   "source": [
    "ratings = pd.read_csv(RATINGS_CSV_FILE, \n",
    "                      sep='\\t', \n",
    "                      encoding='latin-1', \n",
    "                      usecols=['userid', 'movieid', 'user_emb_id', 'movie_emb_id', 'rating'])\n",
    "max_userid = ratings['userid'].drop_duplicates().max()\n",
    "max_movieid = ratings['movieid'].drop_duplicates().max()\n",
    "print(str(len(ratings)), 'ratings loaded.')\n",
    "print('users '+str(max_userid)+' items '+str(max_movieid))"
   ]
  },
  {
   "cell_type": "code",
   "execution_count": 5,
   "metadata": {},
   "outputs": [
    {
     "name": "stdout",
     "output_type": "stream",
     "text": [
      "       userid  movieid  rating  user_emb_id  movie_emb_id\n",
      "0           1        1       5            0             0\n",
      "1           1        2       3            0             1\n",
      "2           1        3       4            0             2\n",
      "3           1        4       3            0             3\n",
      "4           1        5       3            0             4\n",
      "5           1        7       4            0             6\n",
      "6           1        8       1            0             7\n",
      "7           1        9       5            0             8\n",
      "8           1       11       2            0            10\n",
      "9           1       13       5            0            12\n",
      "10          1       15       5            0            14\n",
      "11          1       16       5            0            15\n",
      "12          1       18       4            0            17\n",
      "13          1       19       5            0            18\n",
      "14          1       21       1            0            20\n",
      "15          1       22       4            0            21\n",
      "16          1       25       4            0            24\n",
      "17          1       26       3            0            25\n",
      "18          1       28       4            0            27\n",
      "19          1       29       1            0            28\n",
      "20          1       30       3            0            29\n",
      "21          1       32       5            0            31\n",
      "22          1       34       2            0            33\n",
      "23          1       35       1            0            34\n",
      "24          1       37       2            0            36\n",
      "25          1       38       3            0            37\n",
      "26          1       40       3            0            39\n",
      "27          1       41       2            0            40\n",
      "28          1       42       5            0            41\n",
      "29          1       43       4            0            42\n",
      "...       ...      ...     ...          ...           ...\n",
      "79970     943      720       1          942           719\n",
      "79971     943      721       5          942           720\n",
      "79972     943      722       3          942           721\n",
      "79973     943      724       1          942           723\n",
      "79974     943      732       4          942           731\n",
      "79975     943      739       4          942           738\n",
      "79976     943      756       2          942           755\n",
      "79977     943      763       4          942           762\n",
      "79978     943      765       3          942           764\n",
      "79979     943      785       2          942           784\n",
      "79980     943      794       3          942           793\n",
      "79981     943      796       3          942           795\n",
      "79982     943      808       4          942           807\n",
      "79983     943      816       4          942           815\n",
      "79984     943      824       4          942           823\n",
      "79985     943      825       3          942           824\n",
      "79986     943      831       2          942           830\n",
      "79987     943      840       4          942           839\n",
      "79988     943      928       5          942           927\n",
      "79989     943      941       1          942           940\n",
      "79990     943      943       5          942           942\n",
      "79991     943     1011       2          942          1010\n",
      "79992     943     1028       2          942          1027\n",
      "79993     943     1044       3          942          1043\n",
      "79994     943     1047       2          942          1046\n",
      "79995     943     1067       2          942          1066\n",
      "79996     943     1074       4          942          1073\n",
      "79997     943     1188       3          942          1187\n",
      "79998     943     1228       3          942          1227\n",
      "79999     943     1330       3          942          1329\n",
      "\n",
      "[80000 rows x 5 columns]\n"
     ]
    }
   ],
   "source": [
    "print(ratings)"
   ]
  },
  {
   "cell_type": "markdown",
   "metadata": {},
   "source": [
    "Prepare inputs to model"
   ]
  },
  {
   "cell_type": "code",
   "execution_count": 6,
   "metadata": {},
   "outputs": [],
   "source": [
    "shuffled_ratings = ratings.sample(frac=1.)\n",
    "Users = shuffled_ratings['user_emb_id'].values\n",
    "Movies = shuffled_ratings['movie_emb_id'].values\n",
    "Ratings = shuffled_ratings['rating'].values"
   ]
  },
  {
   "cell_type": "code",
   "execution_count": 7,
   "metadata": {},
   "outputs": [
    {
     "data": {
      "text/html": [
       "<div>\n",
       "<style scoped>\n",
       "    .dataframe tbody tr th:only-of-type {\n",
       "        vertical-align: middle;\n",
       "    }\n",
       "\n",
       "    .dataframe tbody tr th {\n",
       "        vertical-align: top;\n",
       "    }\n",
       "\n",
       "    .dataframe thead th {\n",
       "        text-align: right;\n",
       "    }\n",
       "</style>\n",
       "<table border=\"1\" class=\"dataframe\">\n",
       "  <thead>\n",
       "    <tr style=\"text-align: right;\">\n",
       "      <th></th>\n",
       "      <th>userid</th>\n",
       "      <th>movieid</th>\n",
       "      <th>rating</th>\n",
       "      <th>user_emb_id</th>\n",
       "      <th>movie_emb_id</th>\n",
       "    </tr>\n",
       "  </thead>\n",
       "  <tbody>\n",
       "    <tr>\n",
       "      <th>34867</th>\n",
       "      <td>487</td>\n",
       "      <td>43</td>\n",
       "      <td>3</td>\n",
       "      <td>486</td>\n",
       "      <td>42</td>\n",
       "    </tr>\n",
       "    <tr>\n",
       "      <th>6287</th>\n",
       "      <td>109</td>\n",
       "      <td>151</td>\n",
       "      <td>5</td>\n",
       "      <td>108</td>\n",
       "      <td>150</td>\n",
       "    </tr>\n",
       "    <tr>\n",
       "      <th>1554</th>\n",
       "      <td>18</td>\n",
       "      <td>476</td>\n",
       "      <td>3</td>\n",
       "      <td>17</td>\n",
       "      <td>475</td>\n",
       "    </tr>\n",
       "    <tr>\n",
       "      <th>12674</th>\n",
       "      <td>235</td>\n",
       "      <td>923</td>\n",
       "      <td>4</td>\n",
       "      <td>234</td>\n",
       "      <td>922</td>\n",
       "    </tr>\n",
       "    <tr>\n",
       "      <th>53077</th>\n",
       "      <td>660</td>\n",
       "      <td>1133</td>\n",
       "      <td>2</td>\n",
       "      <td>659</td>\n",
       "      <td>1132</td>\n",
       "    </tr>\n",
       "    <tr>\n",
       "      <th>48623</th>\n",
       "      <td>625</td>\n",
       "      <td>514</td>\n",
       "      <td>3</td>\n",
       "      <td>624</td>\n",
       "      <td>513</td>\n",
       "    </tr>\n",
       "    <tr>\n",
       "      <th>15221</th>\n",
       "      <td>278</td>\n",
       "      <td>313</td>\n",
       "      <td>5</td>\n",
       "      <td>277</td>\n",
       "      <td>312</td>\n",
       "    </tr>\n",
       "    <tr>\n",
       "      <th>53966</th>\n",
       "      <td>667</td>\n",
       "      <td>272</td>\n",
       "      <td>5</td>\n",
       "      <td>666</td>\n",
       "      <td>271</td>\n",
       "    </tr>\n",
       "    <tr>\n",
       "      <th>47161</th>\n",
       "      <td>611</td>\n",
       "      <td>286</td>\n",
       "      <td>5</td>\n",
       "      <td>610</td>\n",
       "      <td>285</td>\n",
       "    </tr>\n",
       "    <tr>\n",
       "      <th>67245</th>\n",
       "      <td>823</td>\n",
       "      <td>144</td>\n",
       "      <td>5</td>\n",
       "      <td>822</td>\n",
       "      <td>143</td>\n",
       "    </tr>\n",
       "    <tr>\n",
       "      <th>38743</th>\n",
       "      <td>524</td>\n",
       "      <td>241</td>\n",
       "      <td>5</td>\n",
       "      <td>523</td>\n",
       "      <td>240</td>\n",
       "    </tr>\n",
       "    <tr>\n",
       "      <th>17721</th>\n",
       "      <td>308</td>\n",
       "      <td>8</td>\n",
       "      <td>5</td>\n",
       "      <td>307</td>\n",
       "      <td>7</td>\n",
       "    </tr>\n",
       "    <tr>\n",
       "      <th>42045</th>\n",
       "      <td>551</td>\n",
       "      <td>54</td>\n",
       "      <td>3</td>\n",
       "      <td>550</td>\n",
       "      <td>53</td>\n",
       "    </tr>\n",
       "    <tr>\n",
       "      <th>79467</th>\n",
       "      <td>938</td>\n",
       "      <td>1</td>\n",
       "      <td>4</td>\n",
       "      <td>937</td>\n",
       "      <td>0</td>\n",
       "    </tr>\n",
       "    <tr>\n",
       "      <th>69968</th>\n",
       "      <td>848</td>\n",
       "      <td>642</td>\n",
       "      <td>5</td>\n",
       "      <td>847</td>\n",
       "      <td>641</td>\n",
       "    </tr>\n",
       "    <tr>\n",
       "      <th>26200</th>\n",
       "      <td>406</td>\n",
       "      <td>143</td>\n",
       "      <td>1</td>\n",
       "      <td>405</td>\n",
       "      <td>142</td>\n",
       "    </tr>\n",
       "    <tr>\n",
       "      <th>71134</th>\n",
       "      <td>864</td>\n",
       "      <td>63</td>\n",
       "      <td>3</td>\n",
       "      <td>863</td>\n",
       "      <td>62</td>\n",
       "    </tr>\n",
       "    <tr>\n",
       "      <th>22048</th>\n",
       "      <td>365</td>\n",
       "      <td>151</td>\n",
       "      <td>4</td>\n",
       "      <td>364</td>\n",
       "      <td>150</td>\n",
       "    </tr>\n",
       "    <tr>\n",
       "      <th>59045</th>\n",
       "      <td>727</td>\n",
       "      <td>596</td>\n",
       "      <td>4</td>\n",
       "      <td>726</td>\n",
       "      <td>595</td>\n",
       "    </tr>\n",
       "    <tr>\n",
       "      <th>71100</th>\n",
       "      <td>863</td>\n",
       "      <td>1678</td>\n",
       "      <td>1</td>\n",
       "      <td>862</td>\n",
       "      <td>1677</td>\n",
       "    </tr>\n",
       "    <tr>\n",
       "      <th>25728</th>\n",
       "      <td>405</td>\n",
       "      <td>418</td>\n",
       "      <td>5</td>\n",
       "      <td>404</td>\n",
       "      <td>417</td>\n",
       "    </tr>\n",
       "    <tr>\n",
       "      <th>15918</th>\n",
       "      <td>288</td>\n",
       "      <td>211</td>\n",
       "      <td>5</td>\n",
       "      <td>287</td>\n",
       "      <td>210</td>\n",
       "    </tr>\n",
       "    <tr>\n",
       "      <th>38414</th>\n",
       "      <td>521</td>\n",
       "      <td>183</td>\n",
       "      <td>3</td>\n",
       "      <td>520</td>\n",
       "      <td>182</td>\n",
       "    </tr>\n",
       "    <tr>\n",
       "      <th>2643</th>\n",
       "      <td>44</td>\n",
       "      <td>190</td>\n",
       "      <td>5</td>\n",
       "      <td>43</td>\n",
       "      <td>189</td>\n",
       "    </tr>\n",
       "    <tr>\n",
       "      <th>53968</th>\n",
       "      <td>667</td>\n",
       "      <td>283</td>\n",
       "      <td>4</td>\n",
       "      <td>666</td>\n",
       "      <td>282</td>\n",
       "    </tr>\n",
       "    <tr>\n",
       "      <th>67690</th>\n",
       "      <td>828</td>\n",
       "      <td>45</td>\n",
       "      <td>4</td>\n",
       "      <td>827</td>\n",
       "      <td>44</td>\n",
       "    </tr>\n",
       "    <tr>\n",
       "      <th>64233</th>\n",
       "      <td>788</td>\n",
       "      <td>726</td>\n",
       "      <td>4</td>\n",
       "      <td>787</td>\n",
       "      <td>725</td>\n",
       "    </tr>\n",
       "    <tr>\n",
       "      <th>14064</th>\n",
       "      <td>265</td>\n",
       "      <td>688</td>\n",
       "      <td>2</td>\n",
       "      <td>264</td>\n",
       "      <td>687</td>\n",
       "    </tr>\n",
       "    <tr>\n",
       "      <th>34952</th>\n",
       "      <td>487</td>\n",
       "      <td>260</td>\n",
       "      <td>2</td>\n",
       "      <td>486</td>\n",
       "      <td>259</td>\n",
       "    </tr>\n",
       "    <tr>\n",
       "      <th>39026</th>\n",
       "      <td>526</td>\n",
       "      <td>294</td>\n",
       "      <td>3</td>\n",
       "      <td>525</td>\n",
       "      <td>293</td>\n",
       "    </tr>\n",
       "    <tr>\n",
       "      <th>...</th>\n",
       "      <td>...</td>\n",
       "      <td>...</td>\n",
       "      <td>...</td>\n",
       "      <td>...</td>\n",
       "      <td>...</td>\n",
       "    </tr>\n",
       "    <tr>\n",
       "      <th>11762</th>\n",
       "      <td>222</td>\n",
       "      <td>133</td>\n",
       "      <td>1</td>\n",
       "      <td>221</td>\n",
       "      <td>132</td>\n",
       "    </tr>\n",
       "    <tr>\n",
       "      <th>18458</th>\n",
       "      <td>314</td>\n",
       "      <td>655</td>\n",
       "      <td>4</td>\n",
       "      <td>313</td>\n",
       "      <td>654</td>\n",
       "    </tr>\n",
       "    <tr>\n",
       "      <th>14536</th>\n",
       "      <td>269</td>\n",
       "      <td>1444</td>\n",
       "      <td>1</td>\n",
       "      <td>268</td>\n",
       "      <td>1443</td>\n",
       "    </tr>\n",
       "    <tr>\n",
       "      <th>35165</th>\n",
       "      <td>488</td>\n",
       "      <td>289</td>\n",
       "      <td>1</td>\n",
       "      <td>487</td>\n",
       "      <td>288</td>\n",
       "    </tr>\n",
       "    <tr>\n",
       "      <th>71102</th>\n",
       "      <td>863</td>\n",
       "      <td>1680</td>\n",
       "      <td>2</td>\n",
       "      <td>862</td>\n",
       "      <td>1679</td>\n",
       "    </tr>\n",
       "    <tr>\n",
       "      <th>31795</th>\n",
       "      <td>456</td>\n",
       "      <td>721</td>\n",
       "      <td>4</td>\n",
       "      <td>455</td>\n",
       "      <td>720</td>\n",
       "    </tr>\n",
       "    <tr>\n",
       "      <th>67916</th>\n",
       "      <td>830</td>\n",
       "      <td>424</td>\n",
       "      <td>1</td>\n",
       "      <td>829</td>\n",
       "      <td>423</td>\n",
       "    </tr>\n",
       "    <tr>\n",
       "      <th>46541</th>\n",
       "      <td>605</td>\n",
       "      <td>117</td>\n",
       "      <td>2</td>\n",
       "      <td>604</td>\n",
       "      <td>116</td>\n",
       "    </tr>\n",
       "    <tr>\n",
       "      <th>48582</th>\n",
       "      <td>625</td>\n",
       "      <td>200</td>\n",
       "      <td>3</td>\n",
       "      <td>624</td>\n",
       "      <td>199</td>\n",
       "    </tr>\n",
       "    <tr>\n",
       "      <th>10033</th>\n",
       "      <td>189</td>\n",
       "      <td>525</td>\n",
       "      <td>5</td>\n",
       "      <td>188</td>\n",
       "      <td>524</td>\n",
       "    </tr>\n",
       "    <tr>\n",
       "      <th>2450</th>\n",
       "      <td>42</td>\n",
       "      <td>294</td>\n",
       "      <td>4</td>\n",
       "      <td>41</td>\n",
       "      <td>293</td>\n",
       "    </tr>\n",
       "    <tr>\n",
       "      <th>22469</th>\n",
       "      <td>373</td>\n",
       "      <td>1113</td>\n",
       "      <td>1</td>\n",
       "      <td>372</td>\n",
       "      <td>1112</td>\n",
       "    </tr>\n",
       "    <tr>\n",
       "      <th>73532</th>\n",
       "      <td>883</td>\n",
       "      <td>190</td>\n",
       "      <td>4</td>\n",
       "      <td>882</td>\n",
       "      <td>189</td>\n",
       "    </tr>\n",
       "    <tr>\n",
       "      <th>46206</th>\n",
       "      <td>600</td>\n",
       "      <td>172</td>\n",
       "      <td>4</td>\n",
       "      <td>599</td>\n",
       "      <td>171</td>\n",
       "    </tr>\n",
       "    <tr>\n",
       "      <th>69838</th>\n",
       "      <td>847</td>\n",
       "      <td>1050</td>\n",
       "      <td>3</td>\n",
       "      <td>846</td>\n",
       "      <td>1049</td>\n",
       "    </tr>\n",
       "    <tr>\n",
       "      <th>13193</th>\n",
       "      <td>246</td>\n",
       "      <td>1028</td>\n",
       "      <td>3</td>\n",
       "      <td>245</td>\n",
       "      <td>1027</td>\n",
       "    </tr>\n",
       "    <tr>\n",
       "      <th>5078</th>\n",
       "      <td>90</td>\n",
       "      <td>543</td>\n",
       "      <td>3</td>\n",
       "      <td>89</td>\n",
       "      <td>542</td>\n",
       "    </tr>\n",
       "    <tr>\n",
       "      <th>49424</th>\n",
       "      <td>634</td>\n",
       "      <td>866</td>\n",
       "      <td>3</td>\n",
       "      <td>633</td>\n",
       "      <td>865</td>\n",
       "    </tr>\n",
       "    <tr>\n",
       "      <th>33687</th>\n",
       "      <td>474</td>\n",
       "      <td>434</td>\n",
       "      <td>4</td>\n",
       "      <td>473</td>\n",
       "      <td>433</td>\n",
       "    </tr>\n",
       "    <tr>\n",
       "      <th>40390</th>\n",
       "      <td>537</td>\n",
       "      <td>42</td>\n",
       "      <td>3</td>\n",
       "      <td>536</td>\n",
       "      <td>41</td>\n",
       "    </tr>\n",
       "    <tr>\n",
       "      <th>28873</th>\n",
       "      <td>434</td>\n",
       "      <td>220</td>\n",
       "      <td>5</td>\n",
       "      <td>433</td>\n",
       "      <td>219</td>\n",
       "    </tr>\n",
       "    <tr>\n",
       "      <th>1270</th>\n",
       "      <td>14</td>\n",
       "      <td>12</td>\n",
       "      <td>5</td>\n",
       "      <td>13</td>\n",
       "      <td>11</td>\n",
       "    </tr>\n",
       "    <tr>\n",
       "      <th>74799</th>\n",
       "      <td>892</td>\n",
       "      <td>7</td>\n",
       "      <td>4</td>\n",
       "      <td>891</td>\n",
       "      <td>6</td>\n",
       "    </tr>\n",
       "    <tr>\n",
       "      <th>53929</th>\n",
       "      <td>666</td>\n",
       "      <td>1011</td>\n",
       "      <td>4</td>\n",
       "      <td>665</td>\n",
       "      <td>1010</td>\n",
       "    </tr>\n",
       "    <tr>\n",
       "      <th>16264</th>\n",
       "      <td>292</td>\n",
       "      <td>1073</td>\n",
       "      <td>5</td>\n",
       "      <td>291</td>\n",
       "      <td>1072</td>\n",
       "    </tr>\n",
       "    <tr>\n",
       "      <th>41150</th>\n",
       "      <td>541</td>\n",
       "      <td>627</td>\n",
       "      <td>4</td>\n",
       "      <td>540</td>\n",
       "      <td>626</td>\n",
       "    </tr>\n",
       "    <tr>\n",
       "      <th>60884</th>\n",
       "      <td>751</td>\n",
       "      <td>79</td>\n",
       "      <td>4</td>\n",
       "      <td>750</td>\n",
       "      <td>78</td>\n",
       "    </tr>\n",
       "    <tr>\n",
       "      <th>56183</th>\n",
       "      <td>698</td>\n",
       "      <td>357</td>\n",
       "      <td>4</td>\n",
       "      <td>697</td>\n",
       "      <td>356</td>\n",
       "    </tr>\n",
       "    <tr>\n",
       "      <th>68200</th>\n",
       "      <td>833</td>\n",
       "      <td>434</td>\n",
       "      <td>3</td>\n",
       "      <td>832</td>\n",
       "      <td>433</td>\n",
       "    </tr>\n",
       "    <tr>\n",
       "      <th>49451</th>\n",
       "      <td>634</td>\n",
       "      <td>1284</td>\n",
       "      <td>3</td>\n",
       "      <td>633</td>\n",
       "      <td>1283</td>\n",
       "    </tr>\n",
       "  </tbody>\n",
       "</table>\n",
       "<p>80000 rows × 5 columns</p>\n",
       "</div>"
      ],
      "text/plain": [
       "       userid  movieid  rating  user_emb_id  movie_emb_id\n",
       "34867     487       43       3          486            42\n",
       "6287      109      151       5          108           150\n",
       "1554       18      476       3           17           475\n",
       "12674     235      923       4          234           922\n",
       "53077     660     1133       2          659          1132\n",
       "48623     625      514       3          624           513\n",
       "15221     278      313       5          277           312\n",
       "53966     667      272       5          666           271\n",
       "47161     611      286       5          610           285\n",
       "67245     823      144       5          822           143\n",
       "38743     524      241       5          523           240\n",
       "17721     308        8       5          307             7\n",
       "42045     551       54       3          550            53\n",
       "79467     938        1       4          937             0\n",
       "69968     848      642       5          847           641\n",
       "26200     406      143       1          405           142\n",
       "71134     864       63       3          863            62\n",
       "22048     365      151       4          364           150\n",
       "59045     727      596       4          726           595\n",
       "71100     863     1678       1          862          1677\n",
       "25728     405      418       5          404           417\n",
       "15918     288      211       5          287           210\n",
       "38414     521      183       3          520           182\n",
       "2643       44      190       5           43           189\n",
       "53968     667      283       4          666           282\n",
       "67690     828       45       4          827            44\n",
       "64233     788      726       4          787           725\n",
       "14064     265      688       2          264           687\n",
       "34952     487      260       2          486           259\n",
       "39026     526      294       3          525           293\n",
       "...       ...      ...     ...          ...           ...\n",
       "11762     222      133       1          221           132\n",
       "18458     314      655       4          313           654\n",
       "14536     269     1444       1          268          1443\n",
       "35165     488      289       1          487           288\n",
       "71102     863     1680       2          862          1679\n",
       "31795     456      721       4          455           720\n",
       "67916     830      424       1          829           423\n",
       "46541     605      117       2          604           116\n",
       "48582     625      200       3          624           199\n",
       "10033     189      525       5          188           524\n",
       "2450       42      294       4           41           293\n",
       "22469     373     1113       1          372          1112\n",
       "73532     883      190       4          882           189\n",
       "46206     600      172       4          599           171\n",
       "69838     847     1050       3          846          1049\n",
       "13193     246     1028       3          245          1027\n",
       "5078       90      543       3           89           542\n",
       "49424     634      866       3          633           865\n",
       "33687     474      434       4          473           433\n",
       "40390     537       42       3          536            41\n",
       "28873     434      220       5          433           219\n",
       "1270       14       12       5           13            11\n",
       "74799     892        7       4          891             6\n",
       "53929     666     1011       4          665          1010\n",
       "16264     292     1073       5          291          1072\n",
       "41150     541      627       4          540           626\n",
       "60884     751       79       4          750            78\n",
       "56183     698      357       4          697           356\n",
       "68200     833      434       3          832           433\n",
       "49451     634     1284       3          633          1283\n",
       "\n",
       "[80000 rows x 5 columns]"
      ]
     },
     "execution_count": 7,
     "metadata": {},
     "output_type": "execute_result"
    }
   ],
   "source": [
    "shuffled_ratings"
   ]
  },
  {
   "cell_type": "markdown",
   "metadata": {},
   "source": [
    "Define matrix factorization model"
   ]
  },
  {
   "cell_type": "code",
   "execution_count": 8,
   "metadata": {},
   "outputs": [],
   "source": [
    "def get_model(num_users, num_items, latent_dim):\n",
    "    # Input variables\n",
    "    user_input = Input(shape=(1,), dtype='int32', name = 'user_input')\n",
    "    item_input = Input(shape=(1,), dtype='int32', name = 'item_input')\n",
    "\n",
    "    MF_Embedding_User = Embedding(input_dim = num_users, output_dim = latent_dim, name = 'user_embedding', input_length=1)\n",
    "    MF_Embedding_Item = Embedding(input_dim = num_items, output_dim = latent_dim, name = 'item_embedding', input_length=1)   \n",
    "    \n",
    "    # Crucial to flatten an embedding vector!\n",
    "    user_latent = Flatten()(MF_Embedding_User(user_input))\n",
    "    item_latent = Flatten()(MF_Embedding_Item(item_input))\n",
    "    \n",
    "    # 2 dropuot\n",
    "    conc = Concatenate()([user_latent, item_latent])\n",
    "    drop = Dropout(0.5)(conc)\n",
    "    hid1 = Dense(hidden_dim, activation='relu')(conc)\n",
    "    drop2  = Dropout(do)(hid1)\n",
    "    prediction = Dense(1, activation='relu', kernel_initializer='lecun_uniform', name = 'prediction')(drop2)\n",
    "    \n",
    "    # Element-wise product of user and item embeddings\n",
    "    prediction = merge([user_latent, item_latent], mode = 'dot')\n",
    "    \n",
    "    \n",
    "    model = Model(input=[user_input, item_input], output=prediction)\n",
    "\n",
    "    return model\n"
   ]
  },
  {
   "cell_type": "markdown",
   "metadata": {},
   "source": [
    "Define embedding size and compile model"
   ]
  },
  {
   "cell_type": "code",
   "execution_count": 9,
   "metadata": {},
   "outputs": [
    {
     "name": "stderr",
     "output_type": "stream",
     "text": [
      "C:\\Users\\erez\\Anaconda3\\lib\\site-packages\\ipykernel_launcher.py:21: UserWarning: The `merge` function is deprecated and will be removed after 08/2017. Use instead layers from `keras.layers.merge`, e.g. `add`, `concatenate`, etc.\n",
      "C:\\Users\\erez\\Anaconda3\\lib\\site-packages\\keras\\legacy\\layers.py:465: UserWarning: The `Merge` layer is deprecated and will be removed after 08/2017. Use instead layers from `keras.layers.merge`, e.g. `add`, `concatenate`, etc.\n",
      "  name=name)\n",
      "C:\\Users\\erez\\Anaconda3\\lib\\site-packages\\ipykernel_launcher.py:24: UserWarning: Update your `Model` call to the Keras 2 API: `Model(inputs=[<tf.Tenso..., outputs=Tensor(\"me...)`\n"
     ]
    }
   ],
   "source": [
    "K_LATENT = 20\n",
    "hidden_dim = 1\n",
    "do = 0.5\n",
    "\n",
    "MF_model = get_model(max_userid,max_movieid,K_LATENT)\n",
    "MF_model.compile(loss='mse', optimizer='adamax',metrics=['mae'])"
   ]
  },
  {
   "cell_type": "markdown",
   "metadata": {},
   "source": [
    "## Q1.b"
   ]
  },
  {
   "cell_type": "markdown",
   "metadata": {},
   "source": [
    "Train model"
   ]
  },
  {
   "cell_type": "code",
   "execution_count": 10,
   "metadata": {
    "scrolled": true
   },
   "outputs": [
    {
     "name": "stdout",
     "output_type": "stream",
     "text": [
      "Train on 64000 samples, validate on 16000 samples\n",
      "Epoch 1/12\n",
      "64000/64000 [==============================] - 6s 89us/step - loss: 13.6786 - mean_absolute_error: 3.5257 - val_loss: 13.6230 - val_mean_absolute_error: 3.5167\n",
      "Epoch 2/12\n",
      "64000/64000 [==============================] - 5s 83us/step - loss: 13.0275 - mean_absolute_error: 3.4345 - val_loss: 12.1179 - val_mean_absolute_error: 3.3013\n",
      "Epoch 3/12\n",
      "64000/64000 [==============================] - 5s 83us/step - loss: 10.4651 - mean_absolute_error: 3.0293 - val_loss: 8.7033 - val_mean_absolute_error: 2.7098\n",
      "Epoch 4/12\n",
      "64000/64000 [==============================] - 5s 84us/step - loss: 6.9970 - mean_absolute_error: 2.3420 - val_loss: 5.6666 - val_mean_absolute_error: 2.0456\n",
      "Epoch 5/12\n",
      "64000/64000 [==============================] - 5s 85us/step - loss: 4.7379 - mean_absolute_error: 1.8151 - val_loss: 4.0474 - val_mean_absolute_error: 1.6486\n",
      "Epoch 6/12\n",
      "64000/64000 [==============================] - 5s 82us/step - loss: 3.5068 - mean_absolute_error: 1.5026 - val_loss: 3.1102 - val_mean_absolute_error: 1.4017\n",
      "Epoch 7/12\n",
      "64000/64000 [==============================] - 5s 77us/step - loss: 2.7588 - mean_absolute_error: 1.2999 - val_loss: 2.5193 - val_mean_absolute_error: 1.2373\n",
      "Epoch 8/12\n",
      "64000/64000 [==============================] - 6s 88us/step - loss: 2.2712 - mean_absolute_error: 1.1625 - val_loss: 2.1265 - val_mean_absolute_error: 1.1244\n",
      "Epoch 9/12\n",
      "64000/64000 [==============================] - 5s 76us/step - loss: 1.9379 - mean_absolute_error: 1.0662 - val_loss: 1.8555 - val_mean_absolute_error: 1.0450\n",
      "Epoch 10/12\n",
      "64000/64000 [==============================] - 5s 82us/step - loss: 1.7021 - mean_absolute_error: 0.9955 - val_loss: 1.6616 - val_mean_absolute_error: 0.9870\n",
      "Epoch 11/12\n",
      "64000/64000 [==============================] - 4s 65us/step - loss: 1.5300 - mean_absolute_error: 0.9422 - val_loss: 1.5187 - val_mean_absolute_error: 0.9430\n",
      "Epoch 12/12\n",
      "64000/64000 [==============================] - 6s 86us/step - loss: 1.4014 - mean_absolute_error: 0.9019 - val_loss: 1.4102 - val_mean_absolute_error: 0.9088\n"
     ]
    }
   ],
   "source": [
    "callbacks = [EarlyStopping('val_loss', patience=2), \n",
    "             ModelCheckpoint(MODEL_WEIGHTS_FILE, save_best_only=True)]\n",
    "historyMF = MF_model.fit([Users, Movies], Ratings, epochs=12, validation_split=.2, verbose=1, callbacks=callbacks)"
   ]
  },
  {
   "cell_type": "code",
   "execution_count": 11,
   "metadata": {},
   "outputs": [],
   "source": [
    "def printSumMSE(history):\n",
    "    loss = pd.DataFrame({'epoch': [ i + 1 for i in history.epoch ],\n",
    "                         'training': [ math.sqrt(loss) for loss in history.history['loss'] ],\n",
    "                         'validation': [ math.sqrt(loss) for loss in history.history['val_loss'] ]})\n",
    "\n",
    "    plt.plot(loss['training'])\n",
    "    plt.plot(loss['validation'])\n",
    "    plt.title('model rmse')\n",
    "    plt.ylabel('rmse')\n",
    "    plt.xlabel('epoch')\n",
    "    plt.legend(['train', 'validation'], loc='upper left')\n",
    "    plt.show()"
   ]
  },
  {
   "cell_type": "code",
   "execution_count": 12,
   "metadata": {},
   "outputs": [
    {
     "data": {
      "image/png": "[encoded data removed]",
      "text/plain": [
       "<Figure size 432x288 with 1 Axes>"
      ]
     },
     "metadata": {},
     "output_type": "display_data"
    }
   ],
   "source": [
    "printSumMSE(historyMF)"
   ]
  },
  {
   "cell_type": "markdown",
   "metadata": {},
   "source": [
    "### Second Model: TODO"
   ]
  },
  {
   "cell_type": "markdown",
   "metadata": {},
   "source": [
    "## Q1.c"
   ]
  },
  {
   "cell_type": "markdown",
   "metadata": {},
   "source": [
    "In HW2 we got MAE 0.5956766082578648, in one epoc.\n",
    "in HW3 we got MAE 0.9192 in 12 epoches\n",
    "We can understand from above that our pediction model worked better, because we based on non-personal recomandations.\n",
    "\n"
   ]
  },
  {
   "cell_type": "markdown",
   "metadata": {},
   "source": [
    "## Q2.a"
   ]
  },
  {
   "cell_type": "code",
   "execution_count": 13,
   "metadata": {},
   "outputs": [],
   "source": [
    "def get_ncf_model(num_users, num_items, latent_dim,hidden_dim,do):\n",
    "    # Input variables\n",
    "    user_input = Input(shape=(1,), dtype='int32', name = 'user_input')\n",
    "    item_input = Input(shape=(1,), dtype='int32', name = 'item_input')\n",
    "\n",
    "    MF_Embedding_User = Embedding(input_dim = num_users, output_dim = latent_dim, name = 'user_embedding', input_length=1)\n",
    "    MF_Embedding_Item = Embedding(input_dim = num_items, output_dim = latent_dim, name = 'item_embedding', input_length=1)   \n",
    "    \n",
    "    # Crucial to flatten an embedding vector!\n",
    "    user_latent = Flatten()(MF_Embedding_User(user_input))\n",
    "    item_latent = Flatten()(MF_Embedding_Item(item_input))\n",
    "    \n",
    "    # Element-wise product of user and item embeddings\n",
    "    conc = Concatenate()([user_latent, item_latent])\n",
    "    drop = Dropout(0.5)(conc)\n",
    "    hid1 = Dense(hidden_dim, activation='relu')(conc)\n",
    "    drop2  = Dropout(do)(hid1)\n",
    "    prediction = Dense(1, activation='relu', kernel_initializer='lecun_uniform', name = 'prediction')(drop2)\n",
    "    \n",
    "    \n",
    "    model = Model(input=[user_input, item_input], output=prediction)\n",
    "\n",
    "    return model"
   ]
  },
  {
   "cell_type": "code",
   "execution_count": 14,
   "metadata": {},
   "outputs": [
    {
     "name": "stderr",
     "output_type": "stream",
     "text": [
      "C:\\Users\\erez\\Anaconda3\\lib\\site-packages\\ipykernel_launcher.py:21: UserWarning: Update your `Model` call to the Keras 2 API: `Model(inputs=[<tf.Tenso..., outputs=Tensor(\"pr...)`\n"
     ]
    }
   ],
   "source": [
    "K_LATENT = 20\n",
    "hidden_dim = 1\n",
    "do = 0.5\n",
    "\n",
    "NCF_model = get_ncf_model(max_userid,max_movieid,K_LATENT,hidden_dim,do)\n",
    "NCF_model.compile(loss='mse',optimizer=Adamax(),metrics=['mae'])"
   ]
  },
  {
   "cell_type": "markdown",
   "metadata": {},
   "source": [
    "## Q2.b"
   ]
  },
  {
   "cell_type": "markdown",
   "metadata": {},
   "source": [
    "### option 1: 1 hidden layer, K_LATENT(output_dim) = 20, optimizer=Adamax(), loss='mse', activation='relu'."
   ]
  },
  {
   "cell_type": "code",
   "execution_count": 15,
   "metadata": {},
   "outputs": [
    {
     "name": "stdout",
     "output_type": "stream",
     "text": [
      "Train on 64000 samples, validate on 16000 samples\n",
      "Epoch 1/12\n",
      "64000/64000 [==============================] - 6s 98us/step - loss: 13.6958 - mean_absolute_error: 3.5280 - val_loss: 13.7189 - val_mean_absolute_error: 3.5297\n",
      "Epoch 2/12\n",
      "64000/64000 [==============================] - 5s 79us/step - loss: 13.6958 - mean_absolute_error: 3.5280 - val_loss: 13.7189 - val_mean_absolute_error: 3.5297\n",
      "Epoch 3/12\n",
      "64000/64000 [==============================] - 6s 90us/step - loss: 13.6958 - mean_absolute_error: 3.5280 - val_loss: 13.7189 - val_mean_absolute_error: 3.5297\n"
     ]
    }
   ],
   "source": [
    "callbacks = [EarlyStopping('val_loss', patience=2), \n",
    "             ModelCheckpoint(MODEL_WEIGHTS_FILE, save_best_only=True)]\n",
    "historyNCF = NCF_model.fit([Users, Movies], Ratings, epochs=12, validation_split=.2, verbose=1, callbacks=callbacks)"
   ]
  },
  {
   "cell_type": "code",
   "execution_count": 16,
   "metadata": {},
   "outputs": [
    {
     "data": {
      "image/png": "[encoded data removed]",
      "text/plain": [
       "<Figure size 432x288 with 1 Axes>"
      ]
     },
     "metadata": {},
     "output_type": "display_data"
    }
   ],
   "source": [
    "printSumMSE(historyNCF)"
   ]
  },
  {
   "cell_type": "markdown",
   "metadata": {},
   "source": [
    "### option 1 result: mean_absolute_error: 0.8654"
   ]
  },
  {
   "cell_type": "markdown",
   "metadata": {},
   "source": [
    "### option2 : 10 hidden layer, K_LATENT(output_dim) = 20, optimizer=Adamax(), loss='mse', activation='relu'."
   ]
  },
  {
   "cell_type": "code",
   "execution_count": 17,
   "metadata": {},
   "outputs": [
    {
     "name": "stderr",
     "output_type": "stream",
     "text": [
      "C:\\Users\\erez\\Anaconda3\\lib\\site-packages\\ipykernel_launcher.py:21: UserWarning: Update your `Model` call to the Keras 2 API: `Model(inputs=[<tf.Tenso..., outputs=Tensor(\"pr...)`\n"
     ]
    }
   ],
   "source": [
    "K_LATENT = 20\n",
    "hidden_dim = 10\n",
    "do = 0.5\n",
    "\n",
    "NCF_model2 = get_ncf_model(max_userid,max_movieid,K_LATENT,hidden_dim,do)\n",
    "NCF_model2.compile(loss='mse',optimizer=Adamax(),metrics=['mae'])"
   ]
  },
  {
   "cell_type": "code",
   "execution_count": 18,
   "metadata": {},
   "outputs": [
    {
     "name": "stdout",
     "output_type": "stream",
     "text": [
      "Train on 64000 samples, validate on 16000 samples\n",
      "Epoch 1/12\n",
      "64000/64000 [==============================] - 5s 81us/step - loss: 3.2209 - mean_absolute_error: 1.4340 - val_loss: 1.0471 - val_mean_absolute_error: 0.8427\n",
      "Epoch 2/12\n",
      "64000/64000 [==============================] - 4s 67us/step - loss: 1.2991 - mean_absolute_error: 0.9194 - val_loss: 0.9419 - val_mean_absolute_error: 0.7873\n",
      "Epoch 3/12\n",
      "64000/64000 [==============================] - 5s 85us/step - loss: 1.0062 - mean_absolute_error: 0.8047 - val_loss: 0.9110 - val_mean_absolute_error: 0.7642\n",
      "Epoch 4/12\n",
      "64000/64000 [==============================] - 5s 77us/step - loss: 0.9461 - mean_absolute_error: 0.7774 - val_loss: 0.8975 - val_mean_absolute_error: 0.7553\n",
      "Epoch 5/12\n",
      "64000/64000 [==============================] - 8s 119us/step - loss: 0.9279 - mean_absolute_error: 0.7685 - val_loss: 0.8938 - val_mean_absolute_error: 0.7551\n",
      "Epoch 6/12\n",
      "64000/64000 [==============================] - 7s 109us/step - loss: 0.9188 - mean_absolute_error: 0.7642 - val_loss: 0.8937 - val_mean_absolute_error: 0.7562\n",
      "Epoch 7/12\n",
      "64000/64000 [==============================] - 5s 79us/step - loss: 0.9123 - mean_absolute_error: 0.7623 - val_loss: 0.8825 - val_mean_absolute_error: 0.7466\n",
      "Epoch 8/12\n",
      "64000/64000 [==============================] - 5s 80us/step - loss: 0.9060 - mean_absolute_error: 0.7588 - val_loss: 0.8788 - val_mean_absolute_error: 0.7456\n",
      "Epoch 9/12\n",
      "64000/64000 [==============================] - 5s 74us/step - loss: 0.9010 - mean_absolute_error: 0.7575 - val_loss: 0.8799 - val_mean_absolute_error: 0.7505\n",
      "Epoch 10/12\n",
      "64000/64000 [==============================] - 4s 65us/step - loss: 0.9000 - mean_absolute_error: 0.7577 - val_loss: 0.8797 - val_mean_absolute_error: 0.7496\n"
     ]
    }
   ],
   "source": [
    "callbacks = [EarlyStopping('val_loss', patience=2), \n",
    "             ModelCheckpoint(MODEL_WEIGHTS_FILE, save_best_only=True)]\n",
    "historyNCF2 = NCF_model2.fit([Users, Movies], Ratings, epochs=12, validation_split=.2, verbose=1, callbacks=callbacks)"
   ]
  },
  {
   "cell_type": "code",
   "execution_count": 19,
   "metadata": {},
   "outputs": [
    {
     "data": {
      "image/png": "[encoded data removed]",
      "text/plain": [
       "<Figure size 432x288 with 1 Axes>"
      ]
     },
     "metadata": {},
     "output_type": "display_data"
    }
   ],
   "source": [
    "printSumMSE(historyNCF2)"
   ]
  },
  {
   "cell_type": "markdown",
   "metadata": {},
   "source": [
    "### option 2 result: We got mean_absolute_error: 0.7487"
   ]
  },
  {
   "cell_type": "markdown",
   "metadata": {},
   "source": [
    "### option 3 : 5 hidden layer, K_LATENT(output_dim) = 10, optimizer=Adamax(), loss='mse', activation='relu'."
   ]
  },
  {
   "cell_type": "code",
   "execution_count": 20,
   "metadata": {},
   "outputs": [
    {
     "name": "stderr",
     "output_type": "stream",
     "text": [
      "C:\\Users\\erez\\Anaconda3\\lib\\site-packages\\ipykernel_launcher.py:21: UserWarning: Update your `Model` call to the Keras 2 API: `Model(inputs=[<tf.Tenso..., outputs=Tensor(\"pr...)`\n"
     ]
    }
   ],
   "source": [
    "K_LATENT = 10\n",
    "hidden_dim = 5\n",
    "do = 0.5\n",
    "\n",
    "NCF_model3 = get_ncf_model(max_userid,max_movieid,K_LATENT,hidden_dim,do)\n",
    "NCF_model3.compile(loss='mse',optimizer=Adamax(),metrics=['mae'])"
   ]
  },
  {
   "cell_type": "code",
   "execution_count": 21,
   "metadata": {},
   "outputs": [
    {
     "name": "stdout",
     "output_type": "stream",
     "text": [
      "Train on 64000 samples, validate on 16000 samples\n",
      "Epoch 1/12\n",
      "64000/64000 [==============================] - 4s 67us/step - loss: 4.1422 - mean_absolute_error: 1.6489 - val_loss: 1.2386 - val_mean_absolute_error: 0.9199\n",
      "Epoch 2/12\n",
      "64000/64000 [==============================] - 5s 71us/step - loss: 1.2888 - mean_absolute_error: 0.9202 - val_loss: 0.9932 - val_mean_absolute_error: 0.8103\n",
      "Epoch 3/12\n",
      "64000/64000 [==============================] - 4s 66us/step - loss: 1.0171 - mean_absolute_error: 0.8116 - val_loss: 0.9373 - val_mean_absolute_error: 0.7733\n",
      "Epoch 4/12\n",
      "64000/64000 [==============================] - 5s 77us/step - loss: 0.9793 - mean_absolute_error: 0.7941 - val_loss: 0.9160 - val_mean_absolute_error: 0.7636\n",
      "Epoch 5/12\n",
      "64000/64000 [==============================] - 7s 104us/step - loss: 0.9638 - mean_absolute_error: 0.7852 - val_loss: 0.9130 - val_mean_absolute_error: 0.7633\n",
      "Epoch 6/12\n",
      "64000/64000 [==============================] - 6s 95us/step - loss: 0.9560 - mean_absolute_error: 0.7833 - val_loss: 0.9062 - val_mean_absolute_error: 0.7614\n",
      "Epoch 7/12\n",
      "64000/64000 [==============================] - 7s 107us/step - loss: 0.9502 - mean_absolute_error: 0.7806 - val_loss: 0.9012 - val_mean_absolute_error: 0.7582\n",
      "Epoch 8/12\n",
      "64000/64000 [==============================] - 6s 90us/step - loss: 0.9500 - mean_absolute_error: 0.7804 - val_loss: 0.8998 - val_mean_absolute_error: 0.7582\n",
      "Epoch 9/12\n",
      "64000/64000 [==============================] - 5s 74us/step - loss: 0.9465 - mean_absolute_error: 0.7796 - val_loss: 0.9025 - val_mean_absolute_error: 0.7584\n",
      "Epoch 10/12\n",
      "64000/64000 [==============================] - 5s 72us/step - loss: 0.9429 - mean_absolute_error: 0.7774 - val_loss: 0.9007 - val_mean_absolute_error: 0.7597\n"
     ]
    }
   ],
   "source": [
    "callbacks = [EarlyStopping('val_loss', patience=2), \n",
    "             ModelCheckpoint(MODEL_WEIGHTS_FILE, save_best_only=True)]\n",
    "historyNCF3 = NCF_model3.fit([Users, Movies], Ratings, epochs=12, validation_split=.2, verbose=1, callbacks=callbacks)"
   ]
  },
  {
   "cell_type": "code",
   "execution_count": 22,
   "metadata": {},
   "outputs": [
    {
     "data": {
      "image/png": "[encoded data removed]",
      "text/plain": [
       "<Figure size 432x288 with 1 Axes>"
      ]
     },
     "metadata": {},
     "output_type": "display_data"
    }
   ],
   "source": [
    "printSumMSE(historyNCF3)"
   ]
  },
  {
   "cell_type": "markdown",
   "metadata": {},
   "source": [
    "### option 3 result : mean_absolute_error: 0.7639\n"
   ]
  },
  {
   "cell_type": "markdown",
   "metadata": {},
   "source": [
    "## Q2.c"
   ]
  },
  {
   "cell_type": "markdown",
   "metadata": {},
   "source": [
    "## summary:\n",
    "### option 1 MAE 0.8654\n",
    "### option 2 MAE 0.7487\n",
    "### option 3 MAE 0.7639\n",
    "\n",
    "### So the best is option2!:\n",
    "### 10 hidden layer, K_LATENT(output_dim) = 20, optimizer=Adamax(), loss='mse', activation='relu'.\n",
    "\n",
    "#### explanation:                                                                                                                                                                                                      \n",
    "#### in the neural network, the number of hidden layers is the number of layers that the data is processed. therefore more layers can improve the accuracy of the prediction.   "
   ]
  },
  {
   "cell_type": "markdown",
   "metadata": {},
   "source": [
    "## Q3.1"
   ]
  },
  {
   "cell_type": "markdown",
   "metadata": {},
   "source": [
    "### add gender and release year"
   ]
  },
  {
   "cell_type": "markdown",
   "metadata": {},
   "source": [
    "## Q3.2\n"
   ]
  },
  {
   "cell_type": "code",
   "execution_count": 23,
   "metadata": {},
   "outputs": [],
   "source": [
    "m_cols = ['movieid','movie title','release date','video release date','IMDb URL'\n",
    "          ,'unknown','Action','Adventure','Animation','Childrens','Comedy',\n",
    "          'Crime','Documentary','Drama','Fantasy','Film-Noir','Horror','Musical','Mystery','Romance','Sci-Fi',\n",
    "        'Thriller','War','Western']\n",
    "data_u_item = pd.read_csv('ml-100k/u.item',delimiter='|',names=m_cols,encoding='latin-1')[['movieid','release date']]"
   ]
  },
  {
   "cell_type": "code",
   "execution_count": 24,
   "metadata": {},
   "outputs": [],
   "source": [
    "#explore users\n",
    "u_cols = ['userid','age','gender','occupation','zip_code']\n",
    "data_u_users = pd.read_csv('ml-100k/u.user',delimiter='|',names=u_cols,encoding='latin-1')[['userid','gender']]"
   ]
  },
  {
   "cell_type": "markdown",
   "metadata": {},
   "source": [
    "### merge shuffled_ratings with movie info and user information"
   ]
  },
  {
   "cell_type": "code",
   "execution_count": 25,
   "metadata": {},
   "outputs": [
    {
     "data": {
      "text/html": [
       "<div>\n",
       "<style scoped>\n",
       "    .dataframe tbody tr th:only-of-type {\n",
       "        vertical-align: middle;\n",
       "    }\n",
       "\n",
       "    .dataframe tbody tr th {\n",
       "        vertical-align: top;\n",
       "    }\n",
       "\n",
       "    .dataframe thead th {\n",
       "        text-align: right;\n",
       "    }\n",
       "</style>\n",
       "<table border=\"1\" class=\"dataframe\">\n",
       "  <thead>\n",
       "    <tr style=\"text-align: right;\">\n",
       "      <th></th>\n",
       "      <th>movieid</th>\n",
       "      <th>release date</th>\n",
       "    </tr>\n",
       "  </thead>\n",
       "  <tbody>\n",
       "    <tr>\n",
       "      <th>0</th>\n",
       "      <td>1</td>\n",
       "      <td>01-Jan-1995</td>\n",
       "    </tr>\n",
       "    <tr>\n",
       "      <th>1</th>\n",
       "      <td>2</td>\n",
       "      <td>01-Jan-1995</td>\n",
       "    </tr>\n",
       "    <tr>\n",
       "      <th>2</th>\n",
       "      <td>3</td>\n",
       "      <td>01-Jan-1995</td>\n",
       "    </tr>\n",
       "    <tr>\n",
       "      <th>3</th>\n",
       "      <td>4</td>\n",
       "      <td>01-Jan-1995</td>\n",
       "    </tr>\n",
       "    <tr>\n",
       "      <th>4</th>\n",
       "      <td>5</td>\n",
       "      <td>01-Jan-1995</td>\n",
       "    </tr>\n",
       "  </tbody>\n",
       "</table>\n",
       "</div>"
      ],
      "text/plain": [
       "   movieid release date\n",
       "0        1  01-Jan-1995\n",
       "1        2  01-Jan-1995\n",
       "2        3  01-Jan-1995\n",
       "3        4  01-Jan-1995\n",
       "4        5  01-Jan-1995"
      ]
     },
     "execution_count": 25,
     "metadata": {},
     "output_type": "execute_result"
    }
   ],
   "source": [
    "data_u_item.head()"
   ]
  },
  {
   "cell_type": "code",
   "execution_count": 26,
   "metadata": {},
   "outputs": [
    {
     "data": {
      "text/html": [
       "<div>\n",
       "<style scoped>\n",
       "    .dataframe tbody tr th:only-of-type {\n",
       "        vertical-align: middle;\n",
       "    }\n",
       "\n",
       "    .dataframe tbody tr th {\n",
       "        vertical-align: top;\n",
       "    }\n",
       "\n",
       "    .dataframe thead th {\n",
       "        text-align: right;\n",
       "    }\n",
       "</style>\n",
       "<table border=\"1\" class=\"dataframe\">\n",
       "  <thead>\n",
       "    <tr style=\"text-align: right;\">\n",
       "      <th></th>\n",
       "      <th>userid</th>\n",
       "      <th>gender</th>\n",
       "    </tr>\n",
       "  </thead>\n",
       "  <tbody>\n",
       "    <tr>\n",
       "      <th>0</th>\n",
       "      <td>1</td>\n",
       "      <td>M</td>\n",
       "    </tr>\n",
       "    <tr>\n",
       "      <th>1</th>\n",
       "      <td>2</td>\n",
       "      <td>F</td>\n",
       "    </tr>\n",
       "    <tr>\n",
       "      <th>2</th>\n",
       "      <td>3</td>\n",
       "      <td>M</td>\n",
       "    </tr>\n",
       "    <tr>\n",
       "      <th>3</th>\n",
       "      <td>4</td>\n",
       "      <td>M</td>\n",
       "    </tr>\n",
       "    <tr>\n",
       "      <th>4</th>\n",
       "      <td>5</td>\n",
       "      <td>F</td>\n",
       "    </tr>\n",
       "  </tbody>\n",
       "</table>\n",
       "</div>"
      ],
      "text/plain": [
       "   userid gender\n",
       "0       1      M\n",
       "1       2      F\n",
       "2       3      M\n",
       "3       4      M\n",
       "4       5      F"
      ]
     },
     "execution_count": 26,
     "metadata": {},
     "output_type": "execute_result"
    }
   ],
   "source": [
    "data_u_users.head()"
   ]
  },
  {
   "cell_type": "code",
   "execution_count": 27,
   "metadata": {},
   "outputs": [
    {
     "data": {
      "text/html": [
       "<div>\n",
       "<style scoped>\n",
       "    .dataframe tbody tr th:only-of-type {\n",
       "        vertical-align: middle;\n",
       "    }\n",
       "\n",
       "    .dataframe tbody tr th {\n",
       "        vertical-align: top;\n",
       "    }\n",
       "\n",
       "    .dataframe thead th {\n",
       "        text-align: right;\n",
       "    }\n",
       "</style>\n",
       "<table border=\"1\" class=\"dataframe\">\n",
       "  <thead>\n",
       "    <tr style=\"text-align: right;\">\n",
       "      <th></th>\n",
       "      <th>userid</th>\n",
       "      <th>movieid</th>\n",
       "      <th>rating</th>\n",
       "      <th>user_emb_id</th>\n",
       "      <th>movie_emb_id</th>\n",
       "    </tr>\n",
       "  </thead>\n",
       "  <tbody>\n",
       "    <tr>\n",
       "      <th>34867</th>\n",
       "      <td>487</td>\n",
       "      <td>43</td>\n",
       "      <td>3</td>\n",
       "      <td>486</td>\n",
       "      <td>42</td>\n",
       "    </tr>\n",
       "    <tr>\n",
       "      <th>6287</th>\n",
       "      <td>109</td>\n",
       "      <td>151</td>\n",
       "      <td>5</td>\n",
       "      <td>108</td>\n",
       "      <td>150</td>\n",
       "    </tr>\n",
       "    <tr>\n",
       "      <th>1554</th>\n",
       "      <td>18</td>\n",
       "      <td>476</td>\n",
       "      <td>3</td>\n",
       "      <td>17</td>\n",
       "      <td>475</td>\n",
       "    </tr>\n",
       "    <tr>\n",
       "      <th>12674</th>\n",
       "      <td>235</td>\n",
       "      <td>923</td>\n",
       "      <td>4</td>\n",
       "      <td>234</td>\n",
       "      <td>922</td>\n",
       "    </tr>\n",
       "    <tr>\n",
       "      <th>53077</th>\n",
       "      <td>660</td>\n",
       "      <td>1133</td>\n",
       "      <td>2</td>\n",
       "      <td>659</td>\n",
       "      <td>1132</td>\n",
       "    </tr>\n",
       "  </tbody>\n",
       "</table>\n",
       "</div>"
      ],
      "text/plain": [
       "       userid  movieid  rating  user_emb_id  movie_emb_id\n",
       "34867     487       43       3          486            42\n",
       "6287      109      151       5          108           150\n",
       "1554       18      476       3           17           475\n",
       "12674     235      923       4          234           922\n",
       "53077     660     1133       2          659          1132"
      ]
     },
     "execution_count": 27,
     "metadata": {},
     "output_type": "execute_result"
    }
   ],
   "source": [
    "shuffled_ratings.head()"
   ]
  },
  {
   "cell_type": "code",
   "execution_count": 28,
   "metadata": {},
   "outputs": [],
   "source": [
    "movies_ratings_data = shuffled_ratings.merge(data_u_item,on = 'movieid',how = 'inner')"
   ]
  },
  {
   "cell_type": "code",
   "execution_count": 29,
   "metadata": {},
   "outputs": [],
   "source": [
    "movies_ratings_data = movies_ratings_data.merge(data_u_users,on = 'userid',how = 'inner')"
   ]
  },
  {
   "cell_type": "code",
   "execution_count": 30,
   "metadata": {},
   "outputs": [],
   "source": [
    "from sklearn.preprocessing import LabelBinarizer\n",
    "lb = LabelBinarizer()\n",
    "movies_ratings_data['gender'] = lb.fit_transform(movies_ratings_data['gender'])"
   ]
  },
  {
   "cell_type": "code",
   "execution_count": 31,
   "metadata": {},
   "outputs": [],
   "source": [
    "def parse_date(data):\n",
    "    new_data = []\n",
    "    for year in data:\n",
    "        fix_year = year[-4:]\n",
    "        new_data.append(fix_year)\n",
    "    return new_data"
   ]
  },
  {
   "cell_type": "code",
   "execution_count": 32,
   "metadata": {},
   "outputs": [],
   "source": [
    "# movies_ratings_data['release date'] = parse_date(movies_ratings_data['release date']) \n",
    "movies_ratings_data.loc[movies_ratings_data['release date'].isnull(), 'release date'] = '1990'\n",
    "movies_ratings_data.loc[movies_ratings_data['release date'] == '','release date'] = '1990'\n",
    "movies_ratings_data['release date'] = parse_date(movies_ratings_data['release date']) "
   ]
  },
  {
   "cell_type": "code",
   "execution_count": 33,
   "metadata": {},
   "outputs": [
    {
     "data": {
      "text/html": [
       "<div>\n",
       "<style scoped>\n",
       "    .dataframe tbody tr th:only-of-type {\n",
       "        vertical-align: middle;\n",
       "    }\n",
       "\n",
       "    .dataframe tbody tr th {\n",
       "        vertical-align: top;\n",
       "    }\n",
       "\n",
       "    .dataframe thead th {\n",
       "        text-align: right;\n",
       "    }\n",
       "</style>\n",
       "<table border=\"1\" class=\"dataframe\">\n",
       "  <thead>\n",
       "    <tr style=\"text-align: right;\">\n",
       "      <th></th>\n",
       "      <th>userid</th>\n",
       "      <th>movieid</th>\n",
       "      <th>rating</th>\n",
       "      <th>user_emb_id</th>\n",
       "      <th>movie_emb_id</th>\n",
       "      <th>release date</th>\n",
       "      <th>gender</th>\n",
       "    </tr>\n",
       "  </thead>\n",
       "  <tbody>\n",
       "    <tr>\n",
       "      <th>0</th>\n",
       "      <td>487</td>\n",
       "      <td>43</td>\n",
       "      <td>3</td>\n",
       "      <td>486</td>\n",
       "      <td>42</td>\n",
       "      <td>1994</td>\n",
       "      <td>1</td>\n",
       "    </tr>\n",
       "    <tr>\n",
       "      <th>1</th>\n",
       "      <td>487</td>\n",
       "      <td>313</td>\n",
       "      <td>3</td>\n",
       "      <td>486</td>\n",
       "      <td>312</td>\n",
       "      <td>1997</td>\n",
       "      <td>1</td>\n",
       "    </tr>\n",
       "    <tr>\n",
       "      <th>2</th>\n",
       "      <td>487</td>\n",
       "      <td>272</td>\n",
       "      <td>5</td>\n",
       "      <td>486</td>\n",
       "      <td>271</td>\n",
       "      <td>1997</td>\n",
       "      <td>1</td>\n",
       "    </tr>\n",
       "    <tr>\n",
       "      <th>3</th>\n",
       "      <td>487</td>\n",
       "      <td>286</td>\n",
       "      <td>2</td>\n",
       "      <td>486</td>\n",
       "      <td>285</td>\n",
       "      <td>1996</td>\n",
       "      <td>1</td>\n",
       "    </tr>\n",
       "    <tr>\n",
       "      <th>4</th>\n",
       "      <td>487</td>\n",
       "      <td>144</td>\n",
       "      <td>5</td>\n",
       "      <td>486</td>\n",
       "      <td>143</td>\n",
       "      <td>1988</td>\n",
       "      <td>1</td>\n",
       "    </tr>\n",
       "  </tbody>\n",
       "</table>\n",
       "</div>"
      ],
      "text/plain": [
       "   userid  movieid  rating  user_emb_id  movie_emb_id release date  gender\n",
       "0     487       43       3          486            42         1994       1\n",
       "1     487      313       3          486           312         1997       1\n",
       "2     487      272       5          486           271         1997       1\n",
       "3     487      286       2          486           285         1996       1\n",
       "4     487      144       5          486           143         1988       1"
      ]
     },
     "execution_count": 33,
     "metadata": {},
     "output_type": "execute_result"
    }
   ],
   "source": [
    "movies_ratings_data.head()"
   ]
  },
  {
   "cell_type": "code",
   "execution_count": 34,
   "metadata": {},
   "outputs": [],
   "source": [
    "Users = movies_ratings_data['user_emb_id'].values\n",
    "Movies = movies_ratings_data['movie_emb_id'].values\n",
    "Gender = movies_ratings_data['gender'].values\n",
    "Year = movies_ratings_data['release date'].values\n",
    "Ratings = movies_ratings_data['rating'].values"
   ]
  },
  {
   "cell_type": "code",
   "execution_count": 35,
   "metadata": {},
   "outputs": [],
   "source": [
    "def get_ncf_model_4(num_users, num_items, latent_dim,hidden_dim,do):\n",
    "    # Input variables\n",
    "    user_input = Input(shape=(1,), dtype='int32', name = 'user_input')\n",
    "    item_input = Input(shape=(1,), dtype='int32', name = 'item_input')\n",
    "    gender_input = Input(shape=(1,), dtype='int32', name = 'gender_input')\n",
    "    year_input = Input(shape=(1,), dtype='int32', name = 'year_input')\n",
    "\n",
    "    MF_Embedding_User = Embedding(input_dim = num_users, output_dim = latent_dim, name = 'user_embedding', input_length=1)\n",
    "    MF_Embedding_Item = Embedding(input_dim = num_items, output_dim = latent_dim, name = 'item_embedding', input_length=1) \n",
    "    MF_Embedding_Gender = Embedding(input_dim = 2, output_dim = latent_dim, name = 'gender_embedding', input_length=1)\n",
    "    MF_Embedding_Year = Embedding(input_dim = 2000, output_dim = latent_dim, name = 'year_embedding', input_length=1)  \n",
    "    \n",
    "    # Crucial to flatten an embedding vector!\n",
    "    user_latent = Flatten()(MF_Embedding_User(user_input))\n",
    "    item_latent = Flatten()(MF_Embedding_Item(item_input))\n",
    "    gender_latent = Flatten()(MF_Embedding_Gender(gender_input))\n",
    "    year_latent = Flatten()(MF_Embedding_Year(year_input))\n",
    "    \n",
    "    # Element-wise product of user and item embeddings\n",
    "    conc = Concatenate()([user_latent, item_latent, gender_latent, year_latent])\n",
    "    drop = Dropout(0.5)(conc)\n",
    "    hid1 = Dense(hidden_dim, activation='relu')(conc)\n",
    "    drop2  = Dropout(do)(hid1)\n",
    "    prediction = Dense(1, activation='relu', kernel_initializer='lecun_uniform', name = 'prediction')(drop2)\n",
    "    \n",
    "    \n",
    "    model = Model(input=[user_input, item_input, gender_input, year_input], output=prediction)\n",
    "\n",
    "    return model"
   ]
  },
  {
   "cell_type": "code",
   "execution_count": 36,
   "metadata": {},
   "outputs": [
    {
     "name": "stderr",
     "output_type": "stream",
     "text": [
      "C:\\Users\\erez\\Anaconda3\\lib\\site-packages\\ipykernel_launcher.py:27: UserWarning: Update your `Model` call to the Keras 2 API: `Model(inputs=[<tf.Tenso..., outputs=Tensor(\"pr...)`\n"
     ]
    }
   ],
   "source": [
    "K_LATENT = 20\n",
    "hidden_dim = 10\n",
    "do = 0.5\n",
    "\n",
    "NCF_modelQ3 = get_ncf_model_4(max_userid,max_movieid,K_LATENT,hidden_dim,do)\n",
    "NCF_modelQ3.compile(loss='mse',optimizer=Adamax(),metrics=['mae'])"
   ]
  },
  {
   "cell_type": "markdown",
   "metadata": {},
   "source": [
    "### Q3,c"
   ]
  },
  {
   "cell_type": "markdown",
   "metadata": {},
   "source": [
    "### option 1 K_LATENT = 20, hidden_dim = 10 optimizer=Adamax()"
   ]
  },
  {
   "cell_type": "code",
   "execution_count": 37,
   "metadata": {},
   "outputs": [
    {
     "name": "stdout",
     "output_type": "stream",
     "text": [
      "Train on 64000 samples, validate on 16000 samples\n",
      "Epoch 1/12\n",
      "64000/64000 [==============================] - 7s 104us/step - loss: 2.8728 - mean_absolute_error: 1.3594 - val_loss: 1.3911 - val_mean_absolute_error: 0.9913\n",
      "Epoch 2/12\n",
      "64000/64000 [==============================] - 7s 103us/step - loss: 1.3377 - mean_absolute_error: 0.9326 - val_loss: 1.1841 - val_mean_absolute_error: 0.9040\n",
      "Epoch 3/12\n",
      "64000/64000 [==============================] - 6s 95us/step - loss: 1.0138 - mean_absolute_error: 0.8079 - val_loss: 1.1412 - val_mean_absolute_error: 0.8811\n",
      "Epoch 4/12\n",
      "64000/64000 [==============================] - 6s 97us/step - loss: 0.9487 - mean_absolute_error: 0.7788 - val_loss: 1.1107 - val_mean_absolute_error: 0.8643\n",
      "Epoch 5/12\n",
      "64000/64000 [==============================] - 6s 96us/step - loss: 0.9234 - mean_absolute_error: 0.7684 - val_loss: 1.1054 - val_mean_absolute_error: 0.8615\n",
      "Epoch 6/12\n",
      "64000/64000 [==============================] - 7s 110us/step - loss: 0.9108 - mean_absolute_error: 0.7622 - val_loss: 1.0928 - val_mean_absolute_error: 0.8586\n",
      "Epoch 7/12\n",
      "64000/64000 [==============================] - 7s 107us/step - loss: 0.9065 - mean_absolute_error: 0.7603 - val_loss: 1.0949 - val_mean_absolute_error: 0.8614\n",
      "Epoch 8/12\n",
      "64000/64000 [==============================] - 6s 98us/step - loss: 0.9064 - mean_absolute_error: 0.7604 - val_loss: 1.0977 - val_mean_absolute_error: 0.8622\n"
     ]
    }
   ],
   "source": [
    "callbacks = [EarlyStopping('val_loss', patience=2), \n",
    "             ModelCheckpoint(MODEL_WEIGHTS_FILE, save_best_only=True)]\n",
    "historyNCFQ3 = NCF_modelQ3.fit([Users, Movies, Gender, Year], Ratings, epochs=12, validation_split=.2, verbose=1, callbacks=callbacks)"
   ]
  },
  {
   "cell_type": "code",
   "execution_count": 38,
   "metadata": {},
   "outputs": [
    {
     "data": {
      "image/png": "[encoded data removed]",
      "text/plain": [
       "<Figure size 432x288 with 1 Axes>"
      ]
     },
     "metadata": {},
     "output_type": "display_data"
    }
   ],
   "source": [
    "printSumMSE(historyNCFQ3)"
   ]
  },
  {
   "cell_type": "markdown",
   "metadata": {},
   "source": [
    "### option2 K_LATENT = 20, hidden_dim = 10 optimizer=Adagrad"
   ]
  },
  {
   "cell_type": "code",
   "execution_count": 39,
   "metadata": {},
   "outputs": [
    {
     "name": "stderr",
     "output_type": "stream",
     "text": [
      "C:\\Users\\erez\\Anaconda3\\lib\\site-packages\\ipykernel_launcher.py:27: UserWarning: Update your `Model` call to the Keras 2 API: `Model(inputs=[<tf.Tenso..., outputs=Tensor(\"pr...)`\n"
     ]
    },
    {
     "name": "stdout",
     "output_type": "stream",
     "text": [
      "Train on 64000 samples, validate on 16000 samples\n",
      "Epoch 1/12\n",
      "64000/64000 [==============================] - 6s 101us/step - loss: 2.8514 - mean_absolute_error: 1.3611 - val_loss: 1.6566 - val_mean_absolute_error: 1.0958\n",
      "Epoch 2/12\n",
      "64000/64000 [==============================] - 6s 90us/step - loss: 2.2897 - mean_absolute_error: 1.2145 - val_loss: 1.5634 - val_mean_absolute_error: 1.0605\n",
      "Epoch 3/12\n",
      "64000/64000 [==============================] - 6s 91us/step - loss: 2.0590 - mean_absolute_error: 1.1520 - val_loss: 1.4890 - val_mean_absolute_error: 1.0320\n",
      "Epoch 4/12\n",
      "64000/64000 [==============================] - 6s 91us/step - loss: 1.8887 - mean_absolute_error: 1.1037 - val_loss: 1.4431 - val_mean_absolute_error: 1.0133\n",
      "Epoch 5/12\n",
      "64000/64000 [==============================] - 6s 92us/step - loss: 1.7600 - mean_absolute_error: 1.0636 - val_loss: 1.4165 - val_mean_absolute_error: 1.0026\n",
      "Epoch 6/12\n",
      "64000/64000 [==============================] - 6s 92us/step - loss: 1.6677 - mean_absolute_error: 1.0360 - val_loss: 1.3742 - val_mean_absolute_error: 0.9859\n",
      "Epoch 7/12\n",
      "64000/64000 [==============================] - 6s 93us/step - loss: 1.5780 - mean_absolute_error: 1.0076 - val_loss: 1.3479 - val_mean_absolute_error: 0.9747\n",
      "Epoch 8/12\n",
      "64000/64000 [==============================] - 6s 95us/step - loss: 1.5007 - mean_absolute_error: 0.9829 - val_loss: 1.3173 - val_mean_absolute_error: 0.9624\n",
      "Epoch 9/12\n",
      "64000/64000 [==============================] - 6s 94us/step - loss: 1.4402 - mean_absolute_error: 0.9633 - val_loss: 1.3026 - val_mean_absolute_error: 0.9564\n",
      "Epoch 10/12\n",
      "64000/64000 [==============================] - 6s 92us/step - loss: 1.3943 - mean_absolute_error: 0.9496 - val_loss: 1.2883 - val_mean_absolute_error: 0.9503\n",
      "Epoch 11/12\n",
      "64000/64000 [==============================] - 6s 91us/step - loss: 1.3502 - mean_absolute_error: 0.9351 - val_loss: 1.2679 - val_mean_absolute_error: 0.9414\n",
      "Epoch 12/12\n",
      "64000/64000 [==============================] - 6s 92us/step - loss: 1.2986 - mean_absolute_error: 0.9191 - val_loss: 1.2518 - val_mean_absolute_error: 0.9345\n"
     ]
    }
   ],
   "source": [
    "K_LATENT = 20\n",
    "hidden_dim = 10\n",
    "do = 0.5\n",
    "\n",
    "NCF_modelQ3 = get_ncf_model_4(max_userid,max_movieid,K_LATENT,hidden_dim,do)\n",
    "NCF_modelQ3.compile(loss='mse',optimizer=Adagrad(),metrics=['mae'])\n",
    "callbacks = [EarlyStopping('val_loss', patience=2), \n",
    "             ModelCheckpoint(MODEL_WEIGHTS_FILE, save_best_only=True)]\n",
    "historyNCFQ3 = NCF_modelQ3.fit([Users, Movies, Gender, Year], Ratings, epochs=12, validation_split=.2, verbose=1, callbacks=callbacks)"
   ]
  },
  {
   "cell_type": "code",
   "execution_count": 40,
   "metadata": {},
   "outputs": [
    {
     "data": {
      "image/png": "[encoded data removed]",
      "text/plain": [
       "<Figure size 432x288 with 1 Axes>"
      ]
     },
     "metadata": {},
     "output_type": "display_data"
    }
   ],
   "source": [
    "printSumMSE(historyNCFQ3)"
   ]
  },
  {
   "cell_type": "markdown",
   "metadata": {},
   "source": [
    "# option3 K_LATENT = 7, hidden_dim = 5 optimizer=RMSprop :"
   ]
  },
  {
   "cell_type": "code",
   "execution_count": 63,
   "metadata": {},
   "outputs": [
    {
     "name": "stderr",
     "output_type": "stream",
     "text": [
      "C:\\Users\\erez\\Anaconda3\\lib\\site-packages\\ipykernel_launcher.py:27: UserWarning: Update your `Model` call to the Keras 2 API: `Model(inputs=[<tf.Tenso..., outputs=Tensor(\"pr...)`\n"
     ]
    },
    {
     "name": "stdout",
     "output_type": "stream",
     "text": [
      "Train on 64000 samples, validate on 16000 samples\n",
      "Epoch 1/12\n",
      "64000/64000 [==============================] - 8s 122us/step - loss: 4.3978 - mean_absolute_error: 1.7269 - val_loss: 2.0037 - val_mean_absolute_error: 1.2244\n",
      "Epoch 2/12\n",
      "64000/64000 [==============================] - 7s 105us/step - loss: 1.4228 - mean_absolute_error: 0.9672 - val_loss: 1.2098 - val_mean_absolute_error: 0.9203\n",
      "Epoch 3/12\n",
      "64000/64000 [==============================] - 7s 108us/step - loss: 1.0749 - mean_absolute_error: 0.8444 - val_loss: 1.1409 - val_mean_absolute_error: 0.8888\n",
      "Epoch 4/12\n",
      "64000/64000 [==============================] - 7s 110us/step - loss: 1.0685 - mean_absolute_error: 0.8420 - val_loss: 1.1599 - val_mean_absolute_error: 0.9026\n",
      "Epoch 5/12\n",
      "64000/64000 [==============================] - 7s 112us/step - loss: 1.0539 - mean_absolute_error: 0.8351 - val_loss: 1.1464 - val_mean_absolute_error: 0.8969\n"
     ]
    }
   ],
   "source": [
    "K_LATENT = 20\n",
    "hidden_dim = 10\n",
    "do = 0.8\n",
    "\n",
    "NCF_modelQ3 = get_ncf_model_4(max_userid,max_movieid,K_LATENT,hidden_dim,do)\n",
    "NCF_modelQ3.compile(loss='mse',optimizer=RMSprop(),metrics=['mae'])\n",
    "callbacks = [EarlyStopping('val_loss', patience=2), \n",
    "             ModelCheckpoint(MODEL_WEIGHTS_FILE, save_best_only=True)]\n",
    "historyNCFQ3 = NCF_modelQ3.fit([Users, Movies, Gender, Year], Ratings, epochs=12, validation_split=.2, verbose=1, callbacks=callbacks)"
   ]
  },
  {
   "cell_type": "code",
   "execution_count": 65,
   "metadata": {},
   "outputs": [
    {
     "data": {
      "image/png": "[encoded data removed]",
      "text/plain": [
       "<Figure size 432x288 with 1 Axes>"
      ]
     },
     "metadata": {},
     "output_type": "display_data"
    }
   ],
   "source": [
    "printSumMSE(historyNCFQ3)"
   ]
  },
  {
   "cell_type": "code",
   "execution_count": null,
   "metadata": {},
   "outputs": [],
   "source": []
  }
 ],
 "metadata": {
  "kernelspec": {
   "display_name": "Python 3",
   "language": "python",
   "name": "python3"
  },
  "language_info": {
   "codemirror_mode": {
    "name": "ipython",
    "version": 3
   },
   "file_extension": ".py",
   "mimetype": "text/x-python",
   "name": "python",
   "nbconvert_exporter": "python",
   "pygments_lexer": "ipython3",
   "version": "3.6.5"
  }
 },
 "nbformat": 4,
 "nbformat_minor": 2
}
