{
 "cells": [
  {
   "cell_type": "markdown",
   "metadata": {},
   "source": [
    "<h1> HW3 </h1>"
   ]
  },
  {
   "cell_type": "markdown",
   "metadata": {},
   "source": [
    "## Q1.a"
   ]
  },
  {
   "cell_type": "code",
   "execution_count": 48,
   "metadata": {},
   "outputs": [],
   "source": [
    "import numpy as np\n",
    "import pandas as pd\n",
    "import os\n",
    "import tensorflow as T\n",
    "import keras\n",
    "from keras import backend as K\n",
    "from keras import initializers\n",
    "from keras.initializers import RandomNormal\n",
    "from keras.models import Sequential, Model, load_model, save_model\n",
    "from keras.layers.core import Dense, Lambda, Activation\n",
    "from keras.layers import Embedding, Input, Dense, merge, Reshape, Merge, Flatten, Dropout\n",
    "from keras.optimizers import Adagrad, Adam, SGD, RMSprop, Adamax\n",
    "from keras.regularizers import l2\n",
    "from keras.layers import Multiply, Concatenate\n",
    "from keras.callbacks import Callback, EarlyStopping, ModelCheckpoint\n",
    "from time import time\n",
    "import multiprocessing as mp\n",
    "import sys\n",
    "import math\n",
    "import argparse\n",
    "import matplotlib.pyplot as plt"
   ]
  },
  {
   "cell_type": "markdown",
   "metadata": {},
   "source": [
    "Define dataset folder and files"
   ]
  },
  {
   "cell_type": "code",
   "execution_count": 32,
   "metadata": {
    "collapsed": true
   },
   "outputs": [],
   "source": [
    "MOVIELENS_DIR = 'ml-100k/'\n",
    "RATING_DATA_FILE = 'u1.base'\n",
    "RATINGS_CSV_FILE = 'u1_emb.data'\n",
    "MODEL_WEIGHTS_FILE = 'u1_emb_weights.h5'"
   ]
  },
  {
   "cell_type": "markdown",
   "metadata": {},
   "source": [
    "The user and item id for embedding should start from 0.\n",
    "Update ids and save to file"
   ]
  },
  {
   "cell_type": "code",
   "execution_count": 33,
   "metadata": {},
   "outputs": [
    {
     "name": "stdout",
     "output_type": "stream",
     "text": [
      "80000 ratings loaded\n",
      "Saved to u1_emb.data\n"
     ]
    }
   ],
   "source": [
    "ratings = pd.read_csv(os.path.join(MOVIELENS_DIR, RATING_DATA_FILE), \n",
    "                    sep='\\t', \n",
    "                    engine='python', \n",
    "                    encoding='latin-1',\n",
    "                    names=['userid', 'movieid', 'rating', 'timestamp'])\n",
    "max_userid = ratings['userid'].drop_duplicates().max()\n",
    "max_movieid = ratings['movieid'].drop_duplicates().max()\n",
    "ratings['user_emb_id'] = ratings['userid'] - 1\n",
    "ratings['movie_emb_id'] = ratings['movieid'] - 1\n",
    "print(str(len(ratings))+' ratings loaded')\n",
    "ratings.to_csv(RATINGS_CSV_FILE, \n",
    "               sep='\\t', \n",
    "               header=True, \n",
    "               encoding='latin-1', \n",
    "               columns=['userid', 'movieid', 'rating', 'timestamp', 'user_emb_id', 'movie_emb_id'])\n",
    "print('Saved to '+RATINGS_CSV_FILE)"
   ]
  },
  {
   "cell_type": "markdown",
   "metadata": {},
   "source": [
    "Load train rating file"
   ]
  },
  {
   "cell_type": "code",
   "execution_count": 34,
   "metadata": {},
   "outputs": [
    {
     "name": "stdout",
     "output_type": "stream",
     "text": [
      "80000 ratings loaded.\n",
      "users 943 items 1682\n"
     ]
    }
   ],
   "source": [
    "ratings = pd.read_csv(RATINGS_CSV_FILE, \n",
    "                      sep='\\t', \n",
    "                      encoding='latin-1', \n",
    "                      usecols=['userid', 'movieid', 'user_emb_id', 'movie_emb_id', 'rating'])\n",
    "max_userid = ratings['userid'].drop_duplicates().max()\n",
    "max_movieid = ratings['movieid'].drop_duplicates().max()\n",
    "print(str(len(ratings)), 'ratings loaded.')\n",
    "print('users '+str(max_userid)+' items '+str(max_movieid))"
   ]
  },
  {
   "cell_type": "code",
   "execution_count": 35,
   "metadata": {},
   "outputs": [
    {
     "name": "stdout",
     "output_type": "stream",
     "text": [
      "       userid  movieid  rating  user_emb_id  movie_emb_id\n",
      "0           1        1       5            0             0\n",
      "1           1        2       3            0             1\n",
      "2           1        3       4            0             2\n",
      "3           1        4       3            0             3\n",
      "4           1        5       3            0             4\n",
      "5           1        7       4            0             6\n",
      "6           1        8       1            0             7\n",
      "7           1        9       5            0             8\n",
      "8           1       11       2            0            10\n",
      "9           1       13       5            0            12\n",
      "10          1       15       5            0            14\n",
      "11          1       16       5            0            15\n",
      "12          1       18       4            0            17\n",
      "13          1       19       5            0            18\n",
      "14          1       21       1            0            20\n",
      "15          1       22       4            0            21\n",
      "16          1       25       4            0            24\n",
      "17          1       26       3            0            25\n",
      "18          1       28       4            0            27\n",
      "19          1       29       1            0            28\n",
      "20          1       30       3            0            29\n",
      "21          1       32       5            0            31\n",
      "22          1       34       2            0            33\n",
      "23          1       35       1            0            34\n",
      "24          1       37       2            0            36\n",
      "25          1       38       3            0            37\n",
      "26          1       40       3            0            39\n",
      "27          1       41       2            0            40\n",
      "28          1       42       5            0            41\n",
      "29          1       43       4            0            42\n",
      "...       ...      ...     ...          ...           ...\n",
      "79970     943      720       1          942           719\n",
      "79971     943      721       5          942           720\n",
      "79972     943      722       3          942           721\n",
      "79973     943      724       1          942           723\n",
      "79974     943      732       4          942           731\n",
      "79975     943      739       4          942           738\n",
      "79976     943      756       2          942           755\n",
      "79977     943      763       4          942           762\n",
      "79978     943      765       3          942           764\n",
      "79979     943      785       2          942           784\n",
      "79980     943      794       3          942           793\n",
      "79981     943      796       3          942           795\n",
      "79982     943      808       4          942           807\n",
      "79983     943      816       4          942           815\n",
      "79984     943      824       4          942           823\n",
      "79985     943      825       3          942           824\n",
      "79986     943      831       2          942           830\n",
      "79987     943      840       4          942           839\n",
      "79988     943      928       5          942           927\n",
      "79989     943      941       1          942           940\n",
      "79990     943      943       5          942           942\n",
      "79991     943     1011       2          942          1010\n",
      "79992     943     1028       2          942          1027\n",
      "79993     943     1044       3          942          1043\n",
      "79994     943     1047       2          942          1046\n",
      "79995     943     1067       2          942          1066\n",
      "79996     943     1074       4          942          1073\n",
      "79997     943     1188       3          942          1187\n",
      "79998     943     1228       3          942          1227\n",
      "79999     943     1330       3          942          1329\n",
      "\n",
      "[80000 rows x 5 columns]\n"
     ]
    }
   ],
   "source": [
    "print(ratings)"
   ]
  },
  {
   "cell_type": "markdown",
   "metadata": {},
   "source": [
    "Prepare inputs to model"
   ]
  },
  {
   "cell_type": "code",
   "execution_count": 36,
   "metadata": {},
   "outputs": [],
   "source": [
    "shuffled_ratings = ratings.sample(frac=1.)\n",
    "Users = shuffled_ratings['user_emb_id'].values\n",
    "Movies = shuffled_ratings['movie_emb_id'].values\n",
    "Ratings = shuffled_ratings['rating'].values"
   ]
  },
  {
   "cell_type": "code",
   "execution_count": 37,
   "metadata": {},
   "outputs": [
    {
     "data": {
      "text/html": [
       "<div>\n",
       "<style>\n",
       "    .dataframe thead tr:only-child th {\n",
       "        text-align: right;\n",
       "    }\n",
       "\n",
       "    .dataframe thead th {\n",
       "        text-align: left;\n",
       "    }\n",
       "\n",
       "    .dataframe tbody tr th {\n",
       "        vertical-align: top;\n",
       "    }\n",
       "</style>\n",
       "<table border=\"1\" class=\"dataframe\">\n",
       "  <thead>\n",
       "    <tr style=\"text-align: right;\">\n",
       "      <th></th>\n",
       "      <th>userid</th>\n",
       "      <th>movieid</th>\n",
       "      <th>rating</th>\n",
       "      <th>user_emb_id</th>\n",
       "      <th>movie_emb_id</th>\n",
       "    </tr>\n",
       "  </thead>\n",
       "  <tbody>\n",
       "    <tr>\n",
       "      <th>65705</th>\n",
       "      <td>804</td>\n",
       "      <td>97</td>\n",
       "      <td>4</td>\n",
       "      <td>803</td>\n",
       "      <td>96</td>\n",
       "    </tr>\n",
       "    <tr>\n",
       "      <th>29050</th>\n",
       "      <td>435</td>\n",
       "      <td>264</td>\n",
       "      <td>3</td>\n",
       "      <td>434</td>\n",
       "      <td>263</td>\n",
       "    </tr>\n",
       "    <tr>\n",
       "      <th>221</th>\n",
       "      <td>5</td>\n",
       "      <td>63</td>\n",
       "      <td>1</td>\n",
       "      <td>4</td>\n",
       "      <td>62</td>\n",
       "    </tr>\n",
       "    <tr>\n",
       "      <th>45730</th>\n",
       "      <td>592</td>\n",
       "      <td>988</td>\n",
       "      <td>1</td>\n",
       "      <td>591</td>\n",
       "      <td>987</td>\n",
       "    </tr>\n",
       "    <tr>\n",
       "      <th>19032</th>\n",
       "      <td>325</td>\n",
       "      <td>186</td>\n",
       "      <td>4</td>\n",
       "      <td>324</td>\n",
       "      <td>185</td>\n",
       "    </tr>\n",
       "    <tr>\n",
       "      <th>41612</th>\n",
       "      <td>545</td>\n",
       "      <td>202</td>\n",
       "      <td>4</td>\n",
       "      <td>544</td>\n",
       "      <td>201</td>\n",
       "    </tr>\n",
       "    <tr>\n",
       "      <th>48574</th>\n",
       "      <td>625</td>\n",
       "      <td>183</td>\n",
       "      <td>3</td>\n",
       "      <td>624</td>\n",
       "      <td>182</td>\n",
       "    </tr>\n",
       "    <tr>\n",
       "      <th>39053</th>\n",
       "      <td>526</td>\n",
       "      <td>748</td>\n",
       "      <td>1</td>\n",
       "      <td>525</td>\n",
       "      <td>747</td>\n",
       "    </tr>\n",
       "    <tr>\n",
       "      <th>49453</th>\n",
       "      <td>635</td>\n",
       "      <td>1</td>\n",
       "      <td>4</td>\n",
       "      <td>634</td>\n",
       "      <td>0</td>\n",
       "    </tr>\n",
       "    <tr>\n",
       "      <th>70569</th>\n",
       "      <td>854</td>\n",
       "      <td>1011</td>\n",
       "      <td>2</td>\n",
       "      <td>853</td>\n",
       "      <td>1010</td>\n",
       "    </tr>\n",
       "    <tr>\n",
       "      <th>71920</th>\n",
       "      <td>870</td>\n",
       "      <td>218</td>\n",
       "      <td>4</td>\n",
       "      <td>869</td>\n",
       "      <td>217</td>\n",
       "    </tr>\n",
       "    <tr>\n",
       "      <th>17604</th>\n",
       "      <td>305</td>\n",
       "      <td>475</td>\n",
       "      <td>4</td>\n",
       "      <td>304</td>\n",
       "      <td>474</td>\n",
       "    </tr>\n",
       "    <tr>\n",
       "      <th>68542</th>\n",
       "      <td>837</td>\n",
       "      <td>237</td>\n",
       "      <td>3</td>\n",
       "      <td>836</td>\n",
       "      <td>236</td>\n",
       "    </tr>\n",
       "    <tr>\n",
       "      <th>69094</th>\n",
       "      <td>843</td>\n",
       "      <td>419</td>\n",
       "      <td>2</td>\n",
       "      <td>842</td>\n",
       "      <td>418</td>\n",
       "    </tr>\n",
       "    <tr>\n",
       "      <th>78942</th>\n",
       "      <td>933</td>\n",
       "      <td>161</td>\n",
       "      <td>2</td>\n",
       "      <td>932</td>\n",
       "      <td>160</td>\n",
       "    </tr>\n",
       "    <tr>\n",
       "      <th>55859</th>\n",
       "      <td>694</td>\n",
       "      <td>237</td>\n",
       "      <td>4</td>\n",
       "      <td>693</td>\n",
       "      <td>236</td>\n",
       "    </tr>\n",
       "    <tr>\n",
       "      <th>53732</th>\n",
       "      <td>666</td>\n",
       "      <td>116</td>\n",
       "      <td>4</td>\n",
       "      <td>665</td>\n",
       "      <td>115</td>\n",
       "    </tr>\n",
       "    <tr>\n",
       "      <th>28448</th>\n",
       "      <td>429</td>\n",
       "      <td>204</td>\n",
       "      <td>4</td>\n",
       "      <td>428</td>\n",
       "      <td>203</td>\n",
       "    </tr>\n",
       "    <tr>\n",
       "      <th>13026</th>\n",
       "      <td>244</td>\n",
       "      <td>458</td>\n",
       "      <td>3</td>\n",
       "      <td>243</td>\n",
       "      <td>457</td>\n",
       "    </tr>\n",
       "    <tr>\n",
       "      <th>23564</th>\n",
       "      <td>385</td>\n",
       "      <td>558</td>\n",
       "      <td>2</td>\n",
       "      <td>384</td>\n",
       "      <td>557</td>\n",
       "    </tr>\n",
       "    <tr>\n",
       "      <th>29843</th>\n",
       "      <td>442</td>\n",
       "      <td>780</td>\n",
       "      <td>3</td>\n",
       "      <td>441</td>\n",
       "      <td>779</td>\n",
       "    </tr>\n",
       "    <tr>\n",
       "      <th>10090</th>\n",
       "      <td>190</td>\n",
       "      <td>544</td>\n",
       "      <td>4</td>\n",
       "      <td>189</td>\n",
       "      <td>543</td>\n",
       "    </tr>\n",
       "    <tr>\n",
       "      <th>5130</th>\n",
       "      <td>90</td>\n",
       "      <td>1196</td>\n",
       "      <td>4</td>\n",
       "      <td>89</td>\n",
       "      <td>1195</td>\n",
       "    </tr>\n",
       "    <tr>\n",
       "      <th>10869</th>\n",
       "      <td>201</td>\n",
       "      <td>692</td>\n",
       "      <td>3</td>\n",
       "      <td>200</td>\n",
       "      <td>691</td>\n",
       "    </tr>\n",
       "    <tr>\n",
       "      <th>43945</th>\n",
       "      <td>569</td>\n",
       "      <td>286</td>\n",
       "      <td>5</td>\n",
       "      <td>568</td>\n",
       "      <td>285</td>\n",
       "    </tr>\n",
       "    <tr>\n",
       "      <th>57067</th>\n",
       "      <td>708</td>\n",
       "      <td>690</td>\n",
       "      <td>4</td>\n",
       "      <td>707</td>\n",
       "      <td>689</td>\n",
       "    </tr>\n",
       "    <tr>\n",
       "      <th>6958</th>\n",
       "      <td>122</td>\n",
       "      <td>519</td>\n",
       "      <td>4</td>\n",
       "      <td>121</td>\n",
       "      <td>518</td>\n",
       "    </tr>\n",
       "    <tr>\n",
       "      <th>1693</th>\n",
       "      <td>21</td>\n",
       "      <td>437</td>\n",
       "      <td>1</td>\n",
       "      <td>20</td>\n",
       "      <td>436</td>\n",
       "    </tr>\n",
       "    <tr>\n",
       "      <th>61430</th>\n",
       "      <td>757</td>\n",
       "      <td>241</td>\n",
       "      <td>3</td>\n",
       "      <td>756</td>\n",
       "      <td>240</td>\n",
       "    </tr>\n",
       "    <tr>\n",
       "      <th>62054</th>\n",
       "      <td>763</td>\n",
       "      <td>83</td>\n",
       "      <td>3</td>\n",
       "      <td>762</td>\n",
       "      <td>82</td>\n",
       "    </tr>\n",
       "    <tr>\n",
       "      <th>...</th>\n",
       "      <td>...</td>\n",
       "      <td>...</td>\n",
       "      <td>...</td>\n",
       "      <td>...</td>\n",
       "      <td>...</td>\n",
       "    </tr>\n",
       "    <tr>\n",
       "      <th>45157</th>\n",
       "      <td>588</td>\n",
       "      <td>472</td>\n",
       "      <td>4</td>\n",
       "      <td>587</td>\n",
       "      <td>471</td>\n",
       "    </tr>\n",
       "    <tr>\n",
       "      <th>1270</th>\n",
       "      <td>14</td>\n",
       "      <td>12</td>\n",
       "      <td>5</td>\n",
       "      <td>13</td>\n",
       "      <td>11</td>\n",
       "    </tr>\n",
       "    <tr>\n",
       "      <th>8727</th>\n",
       "      <td>163</td>\n",
       "      <td>272</td>\n",
       "      <td>4</td>\n",
       "      <td>162</td>\n",
       "      <td>271</td>\n",
       "    </tr>\n",
       "    <tr>\n",
       "      <th>8909</th>\n",
       "      <td>171</td>\n",
       "      <td>262</td>\n",
       "      <td>4</td>\n",
       "      <td>170</td>\n",
       "      <td>261</td>\n",
       "    </tr>\n",
       "    <tr>\n",
       "      <th>66356</th>\n",
       "      <td>806</td>\n",
       "      <td>271</td>\n",
       "      <td>3</td>\n",
       "      <td>805</td>\n",
       "      <td>270</td>\n",
       "    </tr>\n",
       "    <tr>\n",
       "      <th>28804</th>\n",
       "      <td>432</td>\n",
       "      <td>300</td>\n",
       "      <td>4</td>\n",
       "      <td>431</td>\n",
       "      <td>299</td>\n",
       "    </tr>\n",
       "    <tr>\n",
       "      <th>54843</th>\n",
       "      <td>682</td>\n",
       "      <td>211</td>\n",
       "      <td>4</td>\n",
       "      <td>681</td>\n",
       "      <td>210</td>\n",
       "    </tr>\n",
       "    <tr>\n",
       "      <th>18092</th>\n",
       "      <td>311</td>\n",
       "      <td>966</td>\n",
       "      <td>4</td>\n",
       "      <td>310</td>\n",
       "      <td>965</td>\n",
       "    </tr>\n",
       "    <tr>\n",
       "      <th>71549</th>\n",
       "      <td>867</td>\n",
       "      <td>431</td>\n",
       "      <td>4</td>\n",
       "      <td>866</td>\n",
       "      <td>430</td>\n",
       "    </tr>\n",
       "    <tr>\n",
       "      <th>6434</th>\n",
       "      <td>110</td>\n",
       "      <td>402</td>\n",
       "      <td>4</td>\n",
       "      <td>109</td>\n",
       "      <td>401</td>\n",
       "    </tr>\n",
       "    <tr>\n",
       "      <th>1860</th>\n",
       "      <td>23</td>\n",
       "      <td>203</td>\n",
       "      <td>4</td>\n",
       "      <td>22</td>\n",
       "      <td>202</td>\n",
       "    </tr>\n",
       "    <tr>\n",
       "      <th>73562</th>\n",
       "      <td>883</td>\n",
       "      <td>257</td>\n",
       "      <td>5</td>\n",
       "      <td>882</td>\n",
       "      <td>256</td>\n",
       "    </tr>\n",
       "    <tr>\n",
       "      <th>36091</th>\n",
       "      <td>497</td>\n",
       "      <td>169</td>\n",
       "      <td>4</td>\n",
       "      <td>496</td>\n",
       "      <td>168</td>\n",
       "    </tr>\n",
       "    <tr>\n",
       "      <th>48196</th>\n",
       "      <td>622</td>\n",
       "      <td>159</td>\n",
       "      <td>3</td>\n",
       "      <td>621</td>\n",
       "      <td>158</td>\n",
       "    </tr>\n",
       "    <tr>\n",
       "      <th>29227</th>\n",
       "      <td>435</td>\n",
       "      <td>1044</td>\n",
       "      <td>4</td>\n",
       "      <td>434</td>\n",
       "      <td>1043</td>\n",
       "    </tr>\n",
       "    <tr>\n",
       "      <th>29470</th>\n",
       "      <td>437</td>\n",
       "      <td>219</td>\n",
       "      <td>3</td>\n",
       "      <td>436</td>\n",
       "      <td>218</td>\n",
       "    </tr>\n",
       "    <tr>\n",
       "      <th>25669</th>\n",
       "      <td>405</td>\n",
       "      <td>213</td>\n",
       "      <td>2</td>\n",
       "      <td>404</td>\n",
       "      <td>212</td>\n",
       "    </tr>\n",
       "    <tr>\n",
       "      <th>73980</th>\n",
       "      <td>886</td>\n",
       "      <td>229</td>\n",
       "      <td>3</td>\n",
       "      <td>885</td>\n",
       "      <td>228</td>\n",
       "    </tr>\n",
       "    <tr>\n",
       "      <th>8753</th>\n",
       "      <td>164</td>\n",
       "      <td>407</td>\n",
       "      <td>2</td>\n",
       "      <td>163</td>\n",
       "      <td>406</td>\n",
       "    </tr>\n",
       "    <tr>\n",
       "      <th>17539</th>\n",
       "      <td>305</td>\n",
       "      <td>66</td>\n",
       "      <td>3</td>\n",
       "      <td>304</td>\n",
       "      <td>65</td>\n",
       "    </tr>\n",
       "    <tr>\n",
       "      <th>46459</th>\n",
       "      <td>603</td>\n",
       "      <td>50</td>\n",
       "      <td>5</td>\n",
       "      <td>602</td>\n",
       "      <td>49</td>\n",
       "    </tr>\n",
       "    <tr>\n",
       "      <th>24700</th>\n",
       "      <td>394</td>\n",
       "      <td>403</td>\n",
       "      <td>4</td>\n",
       "      <td>393</td>\n",
       "      <td>402</td>\n",
       "    </tr>\n",
       "    <tr>\n",
       "      <th>36606</th>\n",
       "      <td>500</td>\n",
       "      <td>175</td>\n",
       "      <td>5</td>\n",
       "      <td>499</td>\n",
       "      <td>174</td>\n",
       "    </tr>\n",
       "    <tr>\n",
       "      <th>6560</th>\n",
       "      <td>114</td>\n",
       "      <td>615</td>\n",
       "      <td>2</td>\n",
       "      <td>113</td>\n",
       "      <td>614</td>\n",
       "    </tr>\n",
       "    <tr>\n",
       "      <th>9235</th>\n",
       "      <td>178</td>\n",
       "      <td>197</td>\n",
       "      <td>2</td>\n",
       "      <td>177</td>\n",
       "      <td>196</td>\n",
       "    </tr>\n",
       "    <tr>\n",
       "      <th>19958</th>\n",
       "      <td>334</td>\n",
       "      <td>419</td>\n",
       "      <td>3</td>\n",
       "      <td>333</td>\n",
       "      <td>418</td>\n",
       "    </tr>\n",
       "    <tr>\n",
       "      <th>58087</th>\n",
       "      <td>716</td>\n",
       "      <td>414</td>\n",
       "      <td>4</td>\n",
       "      <td>715</td>\n",
       "      <td>413</td>\n",
       "    </tr>\n",
       "    <tr>\n",
       "      <th>51235</th>\n",
       "      <td>650</td>\n",
       "      <td>403</td>\n",
       "      <td>3</td>\n",
       "      <td>649</td>\n",
       "      <td>402</td>\n",
       "    </tr>\n",
       "    <tr>\n",
       "      <th>75348</th>\n",
       "      <td>896</td>\n",
       "      <td>4</td>\n",
       "      <td>3</td>\n",
       "      <td>895</td>\n",
       "      <td>3</td>\n",
       "    </tr>\n",
       "    <tr>\n",
       "      <th>46482</th>\n",
       "      <td>603</td>\n",
       "      <td>288</td>\n",
       "      <td>3</td>\n",
       "      <td>602</td>\n",
       "      <td>287</td>\n",
       "    </tr>\n",
       "  </tbody>\n",
       "</table>\n",
       "<p>80000 rows × 5 columns</p>\n",
       "</div>"
      ],
      "text/plain": [
       "       userid  movieid  rating  user_emb_id  movie_emb_id\n",
       "65705     804       97       4          803            96\n",
       "29050     435      264       3          434           263\n",
       "221         5       63       1            4            62\n",
       "45730     592      988       1          591           987\n",
       "19032     325      186       4          324           185\n",
       "41612     545      202       4          544           201\n",
       "48574     625      183       3          624           182\n",
       "39053     526      748       1          525           747\n",
       "49453     635        1       4          634             0\n",
       "70569     854     1011       2          853          1010\n",
       "71920     870      218       4          869           217\n",
       "17604     305      475       4          304           474\n",
       "68542     837      237       3          836           236\n",
       "69094     843      419       2          842           418\n",
       "78942     933      161       2          932           160\n",
       "55859     694      237       4          693           236\n",
       "53732     666      116       4          665           115\n",
       "28448     429      204       4          428           203\n",
       "13026     244      458       3          243           457\n",
       "23564     385      558       2          384           557\n",
       "29843     442      780       3          441           779\n",
       "10090     190      544       4          189           543\n",
       "5130       90     1196       4           89          1195\n",
       "10869     201      692       3          200           691\n",
       "43945     569      286       5          568           285\n",
       "57067     708      690       4          707           689\n",
       "6958      122      519       4          121           518\n",
       "1693       21      437       1           20           436\n",
       "61430     757      241       3          756           240\n",
       "62054     763       83       3          762            82\n",
       "...       ...      ...     ...          ...           ...\n",
       "45157     588      472       4          587           471\n",
       "1270       14       12       5           13            11\n",
       "8727      163      272       4          162           271\n",
       "8909      171      262       4          170           261\n",
       "66356     806      271       3          805           270\n",
       "28804     432      300       4          431           299\n",
       "54843     682      211       4          681           210\n",
       "18092     311      966       4          310           965\n",
       "71549     867      431       4          866           430\n",
       "6434      110      402       4          109           401\n",
       "1860       23      203       4           22           202\n",
       "73562     883      257       5          882           256\n",
       "36091     497      169       4          496           168\n",
       "48196     622      159       3          621           158\n",
       "29227     435     1044       4          434          1043\n",
       "29470     437      219       3          436           218\n",
       "25669     405      213       2          404           212\n",
       "73980     886      229       3          885           228\n",
       "8753      164      407       2          163           406\n",
       "17539     305       66       3          304            65\n",
       "46459     603       50       5          602            49\n",
       "24700     394      403       4          393           402\n",
       "36606     500      175       5          499           174\n",
       "6560      114      615       2          113           614\n",
       "9235      178      197       2          177           196\n",
       "19958     334      419       3          333           418\n",
       "58087     716      414       4          715           413\n",
       "51235     650      403       3          649           402\n",
       "75348     896        4       3          895             3\n",
       "46482     603      288       3          602           287\n",
       "\n",
       "[80000 rows x 5 columns]"
      ]
     },
     "execution_count": 37,
     "metadata": {},
     "output_type": "execute_result"
    }
   ],
   "source": [
    "shuffled_ratings"
   ]
  },
  {
   "cell_type": "markdown",
   "metadata": {},
   "source": [
    "Define matrix factorization model"
   ]
  },
  {
   "cell_type": "code",
   "execution_count": 38,
   "metadata": {
    "collapsed": true
   },
   "outputs": [],
   "source": [
    "def get_model(num_users, num_items, latent_dim):\n",
    "    # Input variables\n",
    "    user_input = Input(shape=(1,), dtype='int32', name = 'user_input')\n",
    "    item_input = Input(shape=(1,), dtype='int32', name = 'item_input')\n",
    "\n",
    "    MF_Embedding_User = Embedding(input_dim = num_users, output_dim = latent_dim, name = 'user_embedding', input_length=1)\n",
    "    MF_Embedding_Item = Embedding(input_dim = num_items, output_dim = latent_dim, name = 'item_embedding', input_length=1)   \n",
    "    \n",
    "    # Crucial to flatten an embedding vector!\n",
    "    user_latent = Flatten()(MF_Embedding_User(user_input))\n",
    "    item_latent = Flatten()(MF_Embedding_Item(item_input))\n",
    "    \n",
    "    # Element-wise product of user and item embeddings\n",
    "    prediction = merge([user_latent, item_latent], mode = 'dot')\n",
    "    \n",
    "    \n",
    "    model = Model(input=[user_input, item_input], output=prediction)\n",
    "\n",
    "    return model\n"
   ]
  },
  {
   "cell_type": "markdown",
   "metadata": {},
   "source": [
    "Define embedding size and compile model"
   ]
  },
  {
   "cell_type": "code",
   "execution_count": 39,
   "metadata": {},
   "outputs": [
    {
     "name": "stderr",
     "output_type": "stream",
     "text": [
      "C:\\Users\\qvkg67\\AppData\\Local\\Continuum\\anaconda3\\lib\\site-packages\\ipykernel_launcher.py:14: UserWarning: The `merge` function is deprecated and will be removed after 08/2017. Use instead layers from `keras.layers.merge`, e.g. `add`, `concatenate`, etc.\n",
      "  \n",
      "C:\\Users\\qvkg67\\AppData\\Local\\Continuum\\anaconda3\\lib\\site-packages\\keras\\legacy\\layers.py:464: UserWarning: The `Merge` layer is deprecated and will be removed after 08/2017. Use instead layers from `keras.layers.merge`, e.g. `add`, `concatenate`, etc.\n",
      "  name=name)\n",
      "C:\\Users\\qvkg67\\AppData\\Local\\Continuum\\anaconda3\\lib\\site-packages\\ipykernel_launcher.py:17: UserWarning: Update your `Model` call to the Keras 2 API: `Model(inputs=[<tf.Tenso..., outputs=Tensor(\"me...)`\n"
     ]
    }
   ],
   "source": [
    "K_LATENT = 20\n",
    "MF_model = get_model(max_userid,max_movieid,K_LATENT)\n",
    "MF_model.compile(loss='mse', optimizer='adamax',metrics=['mae'])"
   ]
  },
  {
   "cell_type": "markdown",
   "metadata": {},
   "source": [
    "## Q1.b"
   ]
  },
  {
   "cell_type": "markdown",
   "metadata": {},
   "source": [
    "Train model"
   ]
  },
  {
   "cell_type": "code",
   "execution_count": 54,
   "metadata": {
    "scrolled": true
   },
   "outputs": [
    {
     "name": "stdout",
     "output_type": "stream",
     "text": [
      "Train on 64000 samples, validate on 16000 samples\n",
      "Epoch 1/12\n",
      "64000/64000 [==============================] - 6s 96us/step - loss: 1.3070 - mean_absolute_error: 0.8721 - val_loss: 1.3661 - val_mean_absolute_error: 0.8910\n",
      "Epoch 2/12\n",
      "64000/64000 [==============================] - 7s 103us/step - loss: 1.2321 - mean_absolute_error: 0.8478 - val_loss: 1.2977 - val_mean_absolute_error: 0.8694\n",
      "Epoch 3/12\n",
      "64000/64000 [==============================] - 7s 107us/step - loss: 1.1744 - mean_absolute_error: 0.8287 - val_loss: 1.2418 - val_mean_absolute_error: 0.8515\n",
      "Epoch 4/12\n",
      "64000/64000 [==============================] - 6s 101us/step - loss: 1.1280 - mean_absolute_error: 0.8134 - val_loss: 1.1982 - val_mean_absolute_error: 0.8375\n",
      "Epoch 5/12\n",
      "64000/64000 [==============================] - 6s 97us/step - loss: 1.0908 - mean_absolute_error: 0.8011 - val_loss: 1.1622 - val_mean_absolute_error: 0.8265\n",
      "Epoch 6/12\n",
      "64000/64000 [==============================] - 6s 98us/step - loss: 1.0601 - mean_absolute_error: 0.7912 - val_loss: 1.1324 - val_mean_absolute_error: 0.8170\n",
      "Epoch 7/12\n",
      "64000/64000 [==============================] - 7s 105us/step - loss: 1.0344 - mean_absolute_error: 0.7828 - val_loss: 1.1073 - val_mean_absolute_error: 0.8093\n",
      "Epoch 8/12\n",
      "64000/64000 [==============================] - 7s 106us/step - loss: 1.0128 - mean_absolute_error: 0.7759 - val_loss: 1.0861 - val_mean_absolute_error: 0.8027\n",
      "Epoch 9/12\n",
      "64000/64000 [==============================] - 6s 95us/step - loss: 0.9945 - mean_absolute_error: 0.7701 - val_loss: 1.0684 - val_mean_absolute_error: 0.7966\n",
      "Epoch 10/12\n",
      "64000/64000 [==============================] - 6s 91us/step - loss: 0.9788 - mean_absolute_error: 0.7644 - val_loss: 1.0526 - val_mean_absolute_error: 0.7920\n",
      "Epoch 11/12\n",
      "64000/64000 [==============================] - 6s 89us/step - loss: 0.9649 - mean_absolute_error: 0.7600 - val_loss: 1.0392 - val_mean_absolute_error: 0.7875\n",
      "Epoch 12/12\n",
      "64000/64000 [==============================] - 5s 83us/step - loss: 0.9530 - mean_absolute_error: 0.7558 - val_loss: 1.0280 - val_mean_absolute_error: 0.7840\n"
     ]
    }
   ],
   "source": [
    "callbacks = [EarlyStopping('val_loss', patience=2), \n",
    "             ModelCheckpoint(MODEL_WEIGHTS_FILE, save_best_only=True)]\n",
    "historyMF = MF_model.fit([Users, Movies], Ratings, epochs=12, validation_split=.2, verbose=1, callbacks=callbacks)"
   ]
  },
  {
   "cell_type": "code",
   "execution_count": 55,
   "metadata": {},
   "outputs": [],
   "source": [
    "def printSumMSE(history):\n",
    "    loss = pd.DataFrame({'epoch': [ i + 1 for i in history.epoch ],\n",
    "                         'training': [ math.sqrt(loss) for loss in history.history['loss'] ],\n",
    "                         'validation': [ math.sqrt(loss) for loss in history.history['val_loss'] ]})\n",
    "\n",
    "    plt.plot(loss['training'])\n",
    "    plt.plot(loss['validation'])\n",
    "    plt.title('model rmse')\n",
    "    plt.ylabel('rmse')\n",
    "    plt.xlabel('epoch')\n",
    "    plt.legend(['train', 'validation'], loc='upper left')\n",
    "    plt.show()"
   ]
  },
  {
   "cell_type": "code",
   "execution_count": 56,
   "metadata": {},
   "outputs": [
    {
     "data": {
      "image/png": "[encoded data removed]",
      "text/plain": [
       "<matplotlib.figure.Figure at 0x105efdd7e10>"
      ]
     },
     "metadata": {},
     "output_type": "display_data"
    }
   ],
   "source": [
    "printSumMSE(historyMF)"
   ]
  },
  {
   "cell_type": "markdown",
   "metadata": {},
   "source": [
    "## Q1.c"
   ]
  },
  {
   "cell_type": "markdown",
   "metadata": {},
   "source": [
    "In HW2 we got MAE 0.5956766082578648, in one epoc.\n",
    "in HW3 we got MAE 0.9030 in 12 epoches\n",
    "We can understand from above that our pediction model worked better, because we based on non-personal recomandations.\n",
    "\n"
   ]
  },
  {
   "cell_type": "markdown",
   "metadata": {},
   "source": [
    "## Q2.a"
   ]
  },
  {
   "cell_type": "code",
   "execution_count": 57,
   "metadata": {
    "collapsed": true
   },
   "outputs": [],
   "source": [
    "def get_ncf_model(num_users, num_items, latent_dim,hidden_dim,do):\n",
    "    # Input variables\n",
    "    user_input = Input(shape=(1,), dtype='int32', name = 'user_input')\n",
    "    item_input = Input(shape=(1,), dtype='int32', name = 'item_input')\n",
    "\n",
    "    MF_Embedding_User = Embedding(input_dim = num_users, output_dim = latent_dim, name = 'user_embedding', input_length=1)\n",
    "    MF_Embedding_Item = Embedding(input_dim = num_items, output_dim = latent_dim, name = 'item_embedding', input_length=1)   \n",
    "    \n",
    "    # Crucial to flatten an embedding vector!\n",
    "    user_latent = Flatten()(MF_Embedding_User(user_input))\n",
    "    item_latent = Flatten()(MF_Embedding_Item(item_input))\n",
    "    \n",
    "    # Element-wise product of user and item embeddings\n",
    "    conc = Concatenate()([user_latent, item_latent])\n",
    "    drop = Dropout(0.5)(conc)\n",
    "    hid1 = Dense(hidden_dim, activation='relu')(conc)\n",
    "    drop2  = Dropout(do)(hid1)\n",
    "    prediction = Dense(1, activation='relu', kernel_initializer='lecun_uniform', name = 'prediction')(drop2)\n",
    "    \n",
    "    \n",
    "    model = Model(input=[user_input, item_input], output=prediction)\n",
    "\n",
    "    return model"
   ]
  },
  {
   "cell_type": "code",
   "execution_count": 58,
   "metadata": {},
   "outputs": [
    {
     "name": "stderr",
     "output_type": "stream",
     "text": [
      "C:\\Users\\qvkg67\\AppData\\Local\\Continuum\\anaconda3\\lib\\site-packages\\ipykernel_launcher.py:21: UserWarning: Update your `Model` call to the Keras 2 API: `Model(inputs=[<tf.Tenso..., outputs=Tensor(\"pr...)`\n"
     ]
    }
   ],
   "source": [
    "K_LATENT = 20\n",
    "hidden_dim = 1\n",
    "do = 0.5\n",
    "\n",
    "NCF_model = get_ncf_model(max_userid,max_movieid,K_LATENT,hidden_dim,do)\n",
    "NCF_model.compile(loss='mse',optimizer=Adamax(),metrics=['mae'])"
   ]
  },
  {
   "cell_type": "markdown",
   "metadata": {},
   "source": [
    "## Q2.b"
   ]
  },
  {
   "cell_type": "code",
   "execution_count": 59,
   "metadata": {},
   "outputs": [
    {
     "name": "stdout",
     "output_type": "stream",
     "text": [
      "Train on 64000 samples, validate on 16000 samples\n",
      "Epoch 1/12\n",
      "64000/64000 [==============================] - 8s 119us/step - loss: 4.4250 - mean_absolute_error: 1.7113 - val_loss: 1.2929 - val_mean_absolute_error: 0.9376\n",
      "Epoch 2/12\n",
      "64000/64000 [==============================] - 6s 100us/step - loss: 1.2541 - mean_absolute_error: 0.9110 - val_loss: 1.1205 - val_mean_absolute_error: 0.8780\n",
      "Epoch 3/12\n",
      "64000/64000 [==============================] - 6s 88us/step - loss: 1.1569 - mean_absolute_error: 0.8827 - val_loss: 1.1118 - val_mean_absolute_error: 0.8725\n",
      "Epoch 4/12\n",
      "64000/64000 [==============================] - 5s 84us/step - loss: 1.1537 - mean_absolute_error: 0.8804 - val_loss: 1.1080 - val_mean_absolute_error: 0.8695\n",
      "Epoch 5/12\n",
      "64000/64000 [==============================] - 5s 77us/step - loss: 1.1449 - mean_absolute_error: 0.8764 - val_loss: 1.1075 - val_mean_absolute_error: 0.8706\n",
      "Epoch 6/12\n",
      "64000/64000 [==============================] - 5s 84us/step - loss: 1.1433 - mean_absolute_error: 0.8755 - val_loss: 1.0998 - val_mean_absolute_error: 0.8649\n",
      "Epoch 7/12\n",
      "64000/64000 [==============================] - 6s 93us/step - loss: 1.1427 - mean_absolute_error: 0.8750 - val_loss: 1.0993 - val_mean_absolute_error: 0.8643\n",
      "Epoch 8/12\n",
      "64000/64000 [==============================] - 5s 79us/step - loss: 1.1412 - mean_absolute_error: 0.8746 - val_loss: 1.0979 - val_mean_absolute_error: 0.8627\n",
      "Epoch 9/12\n",
      "64000/64000 [==============================] - 6s 96us/step - loss: 1.1448 - mean_absolute_error: 0.8764 - val_loss: 1.1062 - val_mean_absolute_error: 0.8702\n",
      "Epoch 10/12\n",
      "64000/64000 [==============================] - 5s 77us/step - loss: 1.1415 - mean_absolute_error: 0.8748 - val_loss: 1.0962 - val_mean_absolute_error: 0.8641\n",
      "Epoch 11/12\n",
      "64000/64000 [==============================] - 5s 79us/step - loss: 1.1399 - mean_absolute_error: 0.8734 - val_loss: 1.1020 - val_mean_absolute_error: 0.8663\n",
      "Epoch 12/12\n",
      "64000/64000 [==============================] - 6s 98us/step - loss: 1.1411 - mean_absolute_error: 0.8744 - val_loss: 1.1002 - val_mean_absolute_error: 0.8654\n"
     ]
    }
   ],
   "source": [
    "callbacks = [EarlyStopping('val_loss', patience=2), \n",
    "             ModelCheckpoint(MODEL_WEIGHTS_FILE, save_best_only=True)]\n",
    "historyNCF = NCF_model.fit([Users, Movies], Ratings, epochs=12, validation_split=.2, verbose=1, callbacks=callbacks)"
   ]
  },
  {
   "cell_type": "code",
   "execution_count": 60,
   "metadata": {},
   "outputs": [
    {
     "data": {
      "image/png": "[encoded data removed]",
      "text/plain": [
       "<matplotlib.figure.Figure at 0x105efb64128>"
      ]
     },
     "metadata": {},
     "output_type": "display_data"
    }
   ],
   "source": [
    "printSumMSE(historyNCF)"
   ]
  },
  {
   "cell_type": "markdown",
   "metadata": {},
   "source": [
    "## in 1 hidden layer we got mean_absolute_error: 0.8654"
   ]
  },
  {
   "cell_type": "markdown",
   "metadata": {},
   "source": [
    "## now we try difrrent Option with 10 hidden layer"
   ]
  },
  {
   "cell_type": "code",
   "execution_count": 61,
   "metadata": {},
   "outputs": [
    {
     "name": "stderr",
     "output_type": "stream",
     "text": [
      "C:\\Users\\qvkg67\\AppData\\Local\\Continuum\\anaconda3\\lib\\site-packages\\ipykernel_launcher.py:21: UserWarning: Update your `Model` call to the Keras 2 API: `Model(inputs=[<tf.Tenso..., outputs=Tensor(\"pr...)`\n"
     ]
    }
   ],
   "source": [
    "K_LATENT = 20\n",
    "hidden_dim = 10\n",
    "do = 0.5\n",
    "\n",
    "NCF_model2 = get_ncf_model(max_userid,max_movieid,K_LATENT,hidden_dim,do)\n",
    "NCF_model2.compile(loss='mse',optimizer=Adamax(),metrics=['mae'])"
   ]
  },
  {
   "cell_type": "code",
   "execution_count": 62,
   "metadata": {},
   "outputs": [
    {
     "name": "stdout",
     "output_type": "stream",
     "text": [
      "Train on 64000 samples, validate on 16000 samples\n",
      "Epoch 1/12\n",
      "64000/64000 [==============================] - 8s 129us/step - loss: 3.0027 - mean_absolute_error: 1.3783 - val_loss: 1.0563 - val_mean_absolute_error: 0.8450\n",
      "Epoch 2/12\n",
      "64000/64000 [==============================] - 7s 113us/step - loss: 1.3393 - mean_absolute_error: 0.9326 - val_loss: 0.9630 - val_mean_absolute_error: 0.7981\n",
      "Epoch 3/12\n",
      "64000/64000 [==============================] - 7s 112us/step - loss: 1.0315 - mean_absolute_error: 0.8155 - val_loss: 0.9245 - val_mean_absolute_error: 0.7712\n",
      "Epoch 4/12\n",
      "64000/64000 [==============================] - 7s 105us/step - loss: 0.9560 - mean_absolute_error: 0.7817 - val_loss: 0.9068 - val_mean_absolute_error: 0.7574\n",
      "Epoch 5/12\n",
      "64000/64000 [==============================] - 7s 114us/step - loss: 0.9256 - mean_absolute_error: 0.7678 - val_loss: 0.9000 - val_mean_absolute_error: 0.7548\n",
      "Epoch 6/12\n",
      "64000/64000 [==============================] - 7s 108us/step - loss: 0.9163 - mean_absolute_error: 0.7630 - val_loss: 0.8911 - val_mean_absolute_error: 0.7484\n",
      "Epoch 7/12\n",
      "64000/64000 [==============================] - 7s 110us/step - loss: 0.9043 - mean_absolute_error: 0.7577 - val_loss: 0.8875 - val_mean_absolute_error: 0.7482\n",
      "Epoch 8/12\n",
      "64000/64000 [==============================] - 7s 109us/step - loss: 0.9000 - mean_absolute_error: 0.7569 - val_loss: 0.8860 - val_mean_absolute_error: 0.7518\n",
      "Epoch 9/12\n",
      "64000/64000 [==============================] - 7s 106us/step - loss: 0.8934 - mean_absolute_error: 0.7541 - val_loss: 0.8842 - val_mean_absolute_error: 0.7494\n",
      "Epoch 10/12\n",
      "64000/64000 [==============================] - 7s 113us/step - loss: 0.8889 - mean_absolute_error: 0.7513 - val_loss: 0.8843 - val_mean_absolute_error: 0.7491\n",
      "Epoch 11/12\n",
      "64000/64000 [==============================] - 7s 103us/step - loss: 0.8905 - mean_absolute_error: 0.7517 - val_loss: 0.8842 - val_mean_absolute_error: 0.7487\n"
     ]
    }
   ],
   "source": [
    "callbacks = [EarlyStopping('val_loss', patience=2), \n",
    "             ModelCheckpoint(MODEL_WEIGHTS_FILE, save_best_only=True)]\n",
    "historyNCF2 = NCF_model2.fit([Users, Movies], Ratings, epochs=12, validation_split=.2, verbose=1, callbacks=callbacks)"
   ]
  },
  {
   "cell_type": "code",
   "execution_count": 64,
   "metadata": {},
   "outputs": [
    {
     "data": {
      "image/png": "[encoded data removed]",
      "text/plain": [
       "<matplotlib.figure.Figure at 0x105f0227898>"
      ]
     },
     "metadata": {},
     "output_type": "display_data"
    }
   ],
   "source": [
    "printSumMSE(historyNCF2)"
   ]
  },
  {
   "cell_type": "markdown",
   "metadata": {},
   "source": [
    "## We got mean_absolute_error: 0.7487"
   ]
  },
  {
   "cell_type": "markdown",
   "metadata": {},
   "source": [
    "## now we try with 5 hidden layer, and K_LATENT = 10"
   ]
  },
  {
   "cell_type": "code",
   "execution_count": 63,
   "metadata": {},
   "outputs": [
    {
     "name": "stderr",
     "output_type": "stream",
     "text": [
      "C:\\Users\\qvkg67\\AppData\\Local\\Continuum\\anaconda3\\lib\\site-packages\\ipykernel_launcher.py:21: UserWarning: Update your `Model` call to the Keras 2 API: `Model(inputs=[<tf.Tenso..., outputs=Tensor(\"pr...)`\n"
     ]
    }
   ],
   "source": [
    "K_LATENT = 10\n",
    "hidden_dim = 5\n",
    "do = 0.5\n",
    "\n",
    "NCF_model3 = get_ncf_model(max_userid,max_movieid,K_LATENT,hidden_dim,do)\n",
    "NCF_model3.compile(loss='mse',optimizer=Adamax(),metrics=['mae'])"
   ]
  },
  {
   "cell_type": "code",
   "execution_count": 65,
   "metadata": {},
   "outputs": [
    {
     "name": "stdout",
     "output_type": "stream",
     "text": [
      "Train on 64000 samples, validate on 16000 samples\n",
      "Epoch 1/12\n",
      "64000/64000 [==============================] - 8s 126us/step - loss: 4.4967 - mean_absolute_error: 1.7292 - val_loss: 1.3377 - val_mean_absolute_error: 0.9516\n",
      "Epoch 2/12\n",
      "64000/64000 [==============================] - 7s 106us/step - loss: 1.2568 - mean_absolute_error: 0.9092 - val_loss: 1.0244 - val_mean_absolute_error: 0.8292\n",
      "Epoch 3/12\n",
      "64000/64000 [==============================] - 6s 96us/step - loss: 1.0501 - mean_absolute_error: 0.8308 - val_loss: 0.9764 - val_mean_absolute_error: 0.7986\n",
      "Epoch 4/12\n",
      "64000/64000 [==============================] - 5s 78us/step - loss: 1.0241 - mean_absolute_error: 0.8164 - val_loss: 0.9552 - val_mean_absolute_error: 0.7873\n",
      "Epoch 5/12\n",
      "64000/64000 [==============================] - 5s 81us/step - loss: 1.0059 - mean_absolute_error: 0.8075 - val_loss: 0.9444 - val_mean_absolute_error: 0.7839\n",
      "Epoch 6/12\n",
      "64000/64000 [==============================] - 5s 82us/step - loss: 1.0063 - mean_absolute_error: 0.8085 - val_loss: 0.9395 - val_mean_absolute_error: 0.7800\n",
      "Epoch 7/12\n",
      "64000/64000 [==============================] - 5s 82us/step - loss: 0.9953 - mean_absolute_error: 0.8030 - val_loss: 0.9422 - val_mean_absolute_error: 0.7798\n",
      "Epoch 8/12\n",
      "64000/64000 [==============================] - 6s 87us/step - loss: 0.9970 - mean_absolute_error: 0.8048 - val_loss: 0.9318 - val_mean_absolute_error: 0.7738\n",
      "Epoch 9/12\n",
      "64000/64000 [==============================] - 6s 100us/step - loss: 0.9891 - mean_absolute_error: 0.8014 - val_loss: 0.9302 - val_mean_absolute_error: 0.7773\n",
      "Epoch 10/12\n",
      "64000/64000 [==============================] - 8s 119us/step - loss: 0.9699 - mean_absolute_error: 0.7927 - val_loss: 0.9210 - val_mean_absolute_error: 0.7699\n",
      "Epoch 11/12\n",
      "64000/64000 [==============================] - 7s 110us/step - loss: 0.9628 - mean_absolute_error: 0.7875 - val_loss: 0.9188 - val_mean_absolute_error: 0.7674\n",
      "Epoch 12/12\n",
      "64000/64000 [==============================] - 7s 108us/step - loss: 0.9656 - mean_absolute_error: 0.7886 - val_loss: 0.9147 - val_mean_absolute_error: 0.7639\n"
     ]
    }
   ],
   "source": [
    "callbacks = [EarlyStopping('val_loss', patience=2), \n",
    "             ModelCheckpoint(MODEL_WEIGHTS_FILE, save_best_only=True)]\n",
    "historyNCF3 = NCF_model3.fit([Users, Movies], Ratings, epochs=12, validation_split=.2, verbose=1, callbacks=callbacks)"
   ]
  },
  {
   "cell_type": "code",
   "execution_count": 66,
   "metadata": {},
   "outputs": [
    {
     "data": {
      "image/png": "[encoded data removed]",
      "text/plain": [
       "<matplotlib.figure.Figure at 0x105f0a8f208>"
      ]
     },
     "metadata": {},
     "output_type": "display_data"
    }
   ],
   "source": [
    "printSumMSE(historyNCF3)"
   ]
  },
  {
   "cell_type": "markdown",
   "metadata": {},
   "source": [
    "## We got mean_absolute_error: 0.7639\n"
   ]
  },
  {
   "cell_type": "markdown",
   "metadata": {},
   "source": [
    "## Q2.c"
   ]
  },
  {
   "cell_type": "markdown",
   "metadata": {},
   "source": [
    "## We can see that in the first option get MAE 0.8654\n",
    "## The second option MAE 0.7487\n",
    "## The third optione MAE 0.7639\n",
    "\n",
    "# So the best is the third option! with 5 hidden layer, and K_LATENT = 10"
   ]
  },
  {
   "cell_type": "markdown",
   "metadata": {},
   "source": [
    "## Q3.1"
   ]
  },
  {
   "cell_type": "code",
   "execution_count": null,
   "metadata": {
    "collapsed": true
   },
   "outputs": [],
   "source": []
  }
 ],
 "metadata": {
  "kernelspec": {
   "display_name": "Python 3",
   "language": "python",
   "name": "python3"
  },
  "language_info": {
   "codemirror_mode": {
    "name": "ipython",
    "version": 3
   },
   "file_extension": ".py",
   "mimetype": "text/x-python",
   "name": "python",
   "nbconvert_exporter": "python",
   "pygments_lexer": "ipython3",
   "version": "3.6.3"
  }
 },
 "nbformat": 4,
 "nbformat_minor": 2
}
